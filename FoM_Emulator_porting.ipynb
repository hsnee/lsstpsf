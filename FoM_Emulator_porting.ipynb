{
 "cells": [
  {
   "cell_type": "code",
   "execution_count": 50,
   "metadata": {},
   "outputs": [],
   "source": [
    "import lsst.sims.maf.metrics.baseMetric\n",
    "import numpy as np\n",
    "import random\n",
    "from lsst.sims.maf.metrics import BaseMetric, ExgalM5\n",
    "from lsst.sims.maf.maps import DustMap\n",
    "from lsst.sims.maf.slicers import HealpixSlicer\n",
    "import lsst.sims.maf.stackers as stackers\n",
    "import lsst.sims.maf.db as db\n",
    "import lsst.sims.maf.metricBundles as metricBundles\n",
    "import pickle\n"
   ]
  },
  {
   "cell_type": "code",
   "execution_count": 51,
   "metadata": {},
   "outputs": [
    {
     "name": "stdout",
     "output_type": "stream",
     "text": [
      "Populating the interactive namespace from numpy and matplotlib\n"
     ]
    }
   ],
   "source": [
    "import warnings\n",
    "warnings.filterwarnings('ignore')\n",
    "%pylab inline\n",
    "from scipy import stats\n",
    "from angles import r2d, r2arcs, d2arcs, arcs2r\n",
    "def arcm2r(theta):\n",
    "    return arcs2r(theta*60)\n",
    "import seaborn as sns;sns.set_style('darkgrid')\n",
    "import lsst.sims.maf.stackers as stackers\n",
    "import treecorr as tr\n",
    "%config InlineBackend.figure_format = 'retina'\n",
    "matplotlib.rcParams['figure.figsize'] = 19,14\n",
    "import lsst.sims.maf.slicers as slicers\n",
    "import lsst.sims.maf.metrics as metrics\n",
    "import lsst.sims.maf.metricBundles as metricBundles\n",
    "import lsst.sims.maf.db as db\n",
    "from collections import defaultdict\n",
    "import lsst.sims.maf.maps as maps\n",
    "import treecorr\n",
    "from itertools import chain\n",
    "sns.set_context('poster',font_scale=1.4)\n",
    "import random\n",
    "import lsst.sims.maf.batches as batches\n",
    "from itertools import groupby\n",
    "from weakLensingSystematicsMetricCopy1 import AverageVisitsMetric"
   ]
  },
  {
   "cell_type": "code",
   "execution_count": 52,
   "metadata": {},
   "outputs": [],
   "source": [
    "newestSimsPath = '/global/cscratch1/sd/awan/dbs_post_wp_v2/'\n",
    "newestSims = !ls /global/cscratch1/sd/awan/dbs_post_wp_v2/\n",
    "newestSims = [sim[:-3] for sim in newestSims]"
   ]
  },
  {
   "cell_type": "code",
   "execution_count": 53,
   "metadata": {},
   "outputs": [],
   "source": [
    "d = {}\n",
    "nside = 256\n",
    "outDir = 'temp'\n",
    "resultsDb = db.ResultsDb(outDir=outDir)"
   ]
  },
  {
   "cell_type": "code",
   "execution_count": 5,
   "metadata": {},
   "outputs": [],
   "source": [
    "dbFile = newestSimsPath+newestSims[0]+'.db'\n",
    "conn = db.OpsimDatabase(dbFile)"
   ]
  },
  {
   "cell_type": "code",
   "execution_count": 54,
   "metadata": {},
   "outputs": [],
   "source": [
    "import healpy as hp"
   ]
  },
  {
   "cell_type": "code",
   "execution_count": 7,
   "metadata": {},
   "outputs": [],
   "source": [
    "class WackySummaryMetric(metrics.BaseMetric):\n",
    "    def __init__(self, nside, col=None, **kwargs):\n",
    "        self.nside = nside\n",
    "        super(WackySummaryMetric, self).__init__(metricName='wacky',col=col, **kwargs)\n",
    "        if col is None:\n",
    "            self.col = 'metricdata'\n",
    "    def run(self, dataSlice, slicePoint=None):\n",
    "        # let's assume we are running on a coadded depth\n",
    "        \n",
    "        # Chop off any outliers\n",
    "        print(self.col)\n",
    "        \n",
    "        good_pix = np.where(np.logical_and(dataSlice[self.col] > 26, slicePoint['ebv'] < 0.02))[0]\n",
    "        print(dataSlice)\n",
    "        # area = hp.nside2pixarea(self.nside, degrees=True) * np.size(good_pix)\n",
    "        area = len(good_pix)*hp.pixelfunc.nside2pixarea(nside=nside, degrees=True)\n",
    "        median_depth = np.median(dataSlice[self.col][good_pix])\n",
    "        # Here's some value with strange units of mags*deg^2\n",
    "        return area"
   ]
  },
  {
   "cell_type": "code",
   "execution_count": 8,
   "metadata": {},
   "outputs": [
    {
     "name": "stdout",
     "output_type": "stream",
     "text": [
      "Healpix slicer using NSIDE=256, approximate resolution 13.741946 arcminutes\n",
      "Querying database SummaryAllProps with constraint filter = \"i\" and note not like \"DD%\" for columns ['fieldRA', 'fiveSigmaDepth', 'fieldDec']\n",
      "Found 428965 visits\n",
      "Running:  ['opsim_ExgalM5_fiveSigmaDepth_i_and_note_not_like_DD%_HEAL']\n",
      "Completed metric generation.\n",
      "Running reduce methods.\n",
      "Running summary statistics.\n",
      "metricdata\n"
     ]
    },
    {
     "ename": "TypeError",
     "evalue": "'NoneType' object is not subscriptable",
     "output_type": "error",
     "traceback": [
      "\u001b[0;31m---------------------------------------------------------------------------\u001b[0m",
      "\u001b[0;31mTypeError\u001b[0m                                 Traceback (most recent call last)",
      "\u001b[0;32m<ipython-input-8-e4339fa54721>\u001b[0m in \u001b[0;36m<module>\u001b[0;34m\u001b[0m\n\u001b[1;32m     12\u001b[0m \u001b[0mbd\u001b[0m \u001b[0;34m=\u001b[0m \u001b[0mmetricBundles\u001b[0m\u001b[0;34m.\u001b[0m\u001b[0mmakeBundlesDictFromList\u001b[0m\u001b[0;34m(\u001b[0m\u001b[0mbundleList\u001b[0m\u001b[0;34m)\u001b[0m\u001b[0;34m\u001b[0m\u001b[0;34m\u001b[0m\u001b[0m\n\u001b[1;32m     13\u001b[0m \u001b[0mbg\u001b[0m \u001b[0;34m=\u001b[0m \u001b[0mmetricBundles\u001b[0m\u001b[0;34m.\u001b[0m\u001b[0mMetricBundleGroup\u001b[0m\u001b[0;34m(\u001b[0m\u001b[0mbd\u001b[0m\u001b[0;34m,\u001b[0m \u001b[0mconn\u001b[0m\u001b[0;34m,\u001b[0m \u001b[0moutDir\u001b[0m\u001b[0;34m=\u001b[0m\u001b[0moutDir\u001b[0m\u001b[0;34m,\u001b[0m \u001b[0mresultsDb\u001b[0m\u001b[0;34m=\u001b[0m\u001b[0mresultsDb\u001b[0m\u001b[0;34m)\u001b[0m\u001b[0;34m\u001b[0m\u001b[0;34m\u001b[0m\u001b[0m\n\u001b[0;32m---> 14\u001b[0;31m \u001b[0mbg\u001b[0m\u001b[0;34m.\u001b[0m\u001b[0mrunAll\u001b[0m\u001b[0;34m(\u001b[0m\u001b[0;34m)\u001b[0m\u001b[0;34m\u001b[0m\u001b[0;34m\u001b[0m\u001b[0m\n\u001b[0m\u001b[1;32m     15\u001b[0m \u001b[0;34m\u001b[0m\u001b[0m\n\u001b[1;32m     16\u001b[0m \u001b[0;34m\u001b[0m\u001b[0m\n",
      "\u001b[0;32m/cvmfs/sw.lsst.eu/linux-x86_64/lsst_sims/sims_w_2019_23/stack/current/Linux64/sims_maf/2.13.0.sims-10-g70f3e8bb+7/python/lsst/sims/maf/metricBundles/metricBundleGroup.py\u001b[0m in \u001b[0;36mrunAll\u001b[0;34m(self, clearMemory, plotNow, plotKwargs)\u001b[0m\n\u001b[1;32m    240\u001b[0m             \u001b[0mself\u001b[0m\u001b[0;34m.\u001b[0m\u001b[0msetCurrent\u001b[0m\u001b[0;34m(\u001b[0m\u001b[0mconstraint\u001b[0m\u001b[0;34m)\u001b[0m\u001b[0;34m\u001b[0m\u001b[0;34m\u001b[0m\u001b[0m\n\u001b[1;32m    241\u001b[0m             self.runCurrent(constraint, clearMemory=clearMemory,\n\u001b[0;32m--> 242\u001b[0;31m                             plotNow=plotNow, plotKwargs=plotKwargs)\n\u001b[0m\u001b[1;32m    243\u001b[0m \u001b[0;34m\u001b[0m\u001b[0m\n\u001b[1;32m    244\u001b[0m     \u001b[0;32mdef\u001b[0m \u001b[0msetCurrent\u001b[0m\u001b[0;34m(\u001b[0m\u001b[0mself\u001b[0m\u001b[0;34m,\u001b[0m \u001b[0mconstraint\u001b[0m\u001b[0;34m)\u001b[0m\u001b[0;34m:\u001b[0m\u001b[0;34m\u001b[0m\u001b[0;34m\u001b[0m\u001b[0m\n",
      "\u001b[0;32m/cvmfs/sw.lsst.eu/linux-x86_64/lsst_sims/sims_w_2019_23/stack/current/Linux64/sims_maf/2.13.0.sims-10-g70f3e8bb+7/python/lsst/sims/maf/metricBundles/metricBundleGroup.py\u001b[0m in \u001b[0;36mrunCurrent\u001b[0;34m(self, constraint, simData, clearMemory, plotNow, plotKwargs)\u001b[0m\n\u001b[1;32m    330\u001b[0m         \u001b[0;32mif\u001b[0m \u001b[0mself\u001b[0m\u001b[0;34m.\u001b[0m\u001b[0mverbose\u001b[0m\u001b[0;34m:\u001b[0m\u001b[0;34m\u001b[0m\u001b[0;34m\u001b[0m\u001b[0m\n\u001b[1;32m    331\u001b[0m             \u001b[0mprint\u001b[0m\u001b[0;34m(\u001b[0m\u001b[0;34m'Running summary statistics.'\u001b[0m\u001b[0;34m)\u001b[0m\u001b[0;34m\u001b[0m\u001b[0;34m\u001b[0m\u001b[0m\n\u001b[0;32m--> 332\u001b[0;31m         \u001b[0mself\u001b[0m\u001b[0;34m.\u001b[0m\u001b[0msummaryCurrent\u001b[0m\u001b[0;34m(\u001b[0m\u001b[0;34m)\u001b[0m\u001b[0;34m\u001b[0m\u001b[0;34m\u001b[0m\u001b[0m\n\u001b[0m\u001b[1;32m    333\u001b[0m         \u001b[0;32mif\u001b[0m \u001b[0mself\u001b[0m\u001b[0;34m.\u001b[0m\u001b[0mverbose\u001b[0m\u001b[0;34m:\u001b[0m\u001b[0;34m\u001b[0m\u001b[0;34m\u001b[0m\u001b[0m\n\u001b[1;32m    334\u001b[0m             \u001b[0mprint\u001b[0m\u001b[0;34m(\u001b[0m\u001b[0;34m'Completed.'\u001b[0m\u001b[0;34m)\u001b[0m\u001b[0;34m\u001b[0m\u001b[0;34m\u001b[0m\u001b[0m\n",
      "\u001b[0;32m/cvmfs/sw.lsst.eu/linux-x86_64/lsst_sims/sims_w_2019_23/stack/current/Linux64/sims_maf/2.13.0.sims-10-g70f3e8bb+7/python/lsst/sims/maf/metricBundles/metricBundleGroup.py\u001b[0m in \u001b[0;36msummaryCurrent\u001b[0;34m(self)\u001b[0m\n\u001b[1;32m    564\u001b[0m         \"\"\"\n\u001b[1;32m    565\u001b[0m         \u001b[0;32mfor\u001b[0m \u001b[0mb\u001b[0m \u001b[0;32min\u001b[0m \u001b[0mself\u001b[0m\u001b[0;34m.\u001b[0m\u001b[0mcurrentBundleDict\u001b[0m\u001b[0;34m.\u001b[0m\u001b[0mvalues\u001b[0m\u001b[0;34m(\u001b[0m\u001b[0;34m)\u001b[0m\u001b[0;34m:\u001b[0m\u001b[0;34m\u001b[0m\u001b[0;34m\u001b[0m\u001b[0m\n\u001b[0;32m--> 566\u001b[0;31m             \u001b[0mb\u001b[0m\u001b[0;34m.\u001b[0m\u001b[0mcomputeSummaryStats\u001b[0m\u001b[0;34m(\u001b[0m\u001b[0mself\u001b[0m\u001b[0;34m.\u001b[0m\u001b[0mresultsDb\u001b[0m\u001b[0;34m)\u001b[0m\u001b[0;34m\u001b[0m\u001b[0;34m\u001b[0m\u001b[0m\n\u001b[0m\u001b[1;32m    567\u001b[0m \u001b[0;34m\u001b[0m\u001b[0m\n\u001b[1;32m    568\u001b[0m     def plotAll(self, savefig=True, outfileSuffix=None, figformat='pdf', dpi=600, trimWhitespace=True,\n",
      "\u001b[0;32m/cvmfs/sw.lsst.eu/linux-x86_64/lsst_sims/sims_w_2019_23/stack/current/Linux64/sims_maf/2.13.0.sims-10-g70f3e8bb+7/python/lsst/sims/maf/metricBundles/metricBundle.py\u001b[0m in \u001b[0;36mcomputeSummaryStats\u001b[0;34m(self, resultsDb)\u001b[0m\n\u001b[1;32m    494\u001b[0m                     \u001b[0msummaryVal\u001b[0m \u001b[0;34m=\u001b[0m \u001b[0mself\u001b[0m\u001b[0;34m.\u001b[0m\u001b[0mslicer\u001b[0m\u001b[0;34m.\u001b[0m\u001b[0mbadval\u001b[0m\u001b[0;34m\u001b[0m\u001b[0;34m\u001b[0m\u001b[0m\n\u001b[1;32m    495\u001b[0m                 \u001b[0;32melse\u001b[0m\u001b[0;34m:\u001b[0m\u001b[0;34m\u001b[0m\u001b[0;34m\u001b[0m\u001b[0m\n\u001b[0;32m--> 496\u001b[0;31m                     \u001b[0msummaryVal\u001b[0m \u001b[0;34m=\u001b[0m \u001b[0mm\u001b[0m\u001b[0;34m.\u001b[0m\u001b[0mrun\u001b[0m\u001b[0;34m(\u001b[0m\u001b[0mrarr\u001b[0m\u001b[0;34m)\u001b[0m\u001b[0;34m\u001b[0m\u001b[0;34m\u001b[0m\u001b[0m\n\u001b[0m\u001b[1;32m    497\u001b[0m                 \u001b[0mself\u001b[0m\u001b[0;34m.\u001b[0m\u001b[0msummaryValues\u001b[0m\u001b[0;34m[\u001b[0m\u001b[0msummaryName\u001b[0m\u001b[0;34m]\u001b[0m \u001b[0;34m=\u001b[0m \u001b[0msummaryVal\u001b[0m\u001b[0;34m\u001b[0m\u001b[0;34m\u001b[0m\u001b[0m\n\u001b[1;32m    498\u001b[0m                 \u001b[0;31m# Add summary metric info to results database, if applicable.\u001b[0m\u001b[0;34m\u001b[0m\u001b[0;34m\u001b[0m\u001b[0;34m\u001b[0m\u001b[0m\n",
      "\u001b[0;32m<ipython-input-7-49aa874360e2>\u001b[0m in \u001b[0;36mrun\u001b[0;34m(self, dataSlice, slicePoint)\u001b[0m\n\u001b[1;32m     11\u001b[0m         \u001b[0mprint\u001b[0m\u001b[0;34m(\u001b[0m\u001b[0mself\u001b[0m\u001b[0;34m.\u001b[0m\u001b[0mcol\u001b[0m\u001b[0;34m)\u001b[0m\u001b[0;34m\u001b[0m\u001b[0;34m\u001b[0m\u001b[0m\n\u001b[1;32m     12\u001b[0m \u001b[0;34m\u001b[0m\u001b[0m\n\u001b[0;32m---> 13\u001b[0;31m         \u001b[0mgood_pix\u001b[0m \u001b[0;34m=\u001b[0m \u001b[0mnp\u001b[0m\u001b[0;34m.\u001b[0m\u001b[0mwhere\u001b[0m\u001b[0;34m(\u001b[0m\u001b[0mnp\u001b[0m\u001b[0;34m.\u001b[0m\u001b[0mlogical_and\u001b[0m\u001b[0;34m(\u001b[0m\u001b[0mdataSlice\u001b[0m\u001b[0;34m[\u001b[0m\u001b[0mself\u001b[0m\u001b[0;34m.\u001b[0m\u001b[0mcol\u001b[0m\u001b[0;34m]\u001b[0m \u001b[0;34m>\u001b[0m \u001b[0;36m26\u001b[0m\u001b[0;34m,\u001b[0m \u001b[0mslicePoint\u001b[0m\u001b[0;34m[\u001b[0m\u001b[0;34m'ebv'\u001b[0m\u001b[0;34m]\u001b[0m \u001b[0;34m<\u001b[0m \u001b[0;36m0.02\u001b[0m\u001b[0;34m)\u001b[0m\u001b[0;34m)\u001b[0m\u001b[0;34m[\u001b[0m\u001b[0;36m0\u001b[0m\u001b[0;34m]\u001b[0m\u001b[0;34m\u001b[0m\u001b[0;34m\u001b[0m\u001b[0m\n\u001b[0m\u001b[1;32m     14\u001b[0m         \u001b[0mprint\u001b[0m\u001b[0;34m(\u001b[0m\u001b[0mdataSlice\u001b[0m\u001b[0;34m)\u001b[0m\u001b[0;34m\u001b[0m\u001b[0;34m\u001b[0m\u001b[0m\n\u001b[1;32m     15\u001b[0m         \u001b[0;31m# area = hp.nside2pixarea(self.nside, degrees=True) * np.size(good_pix)\u001b[0m\u001b[0;34m\u001b[0m\u001b[0;34m\u001b[0m\u001b[0;34m\u001b[0m\u001b[0m\n",
      "\u001b[0;31mTypeError\u001b[0m: 'NoneType' object is not subscriptable"
     ]
    }
   ],
   "source": [
    "nside = 256\n",
    "bundleList = []\n",
    "sql = 'filter = \"i\" and note not like \"DD%\"'\n",
    "dustMap = maps.DustMap(interp=False, nside=nside)\n",
    "\n",
    "metric = metrics.ExgalM5(maps=['DustMap'])\n",
    "slicer = slicers.HealpixSlicer(nside=nside)\n",
    "summary = [WackySummaryMetric(nside)]\n",
    "summary.append(metrics.MedianMetric())\n",
    "bundleList.append(metricBundles.MetricBundle(metric,slicer,sql, summaryMetrics=summary))\n",
    "\n",
    "bd = metricBundles.makeBundlesDictFromList(bundleList)\n",
    "bg = metricBundles.MetricBundleGroup(bd, conn, outDir=outDir, resultsDb=resultsDb)\n",
    "bg.runAll()\n",
    "\n",
    "\n",
    "bundleList[0].summaryValues\n"
   ]
  },
  {
   "cell_type": "code",
   "execution_count": null,
   "metadata": {},
   "outputs": [],
   "source": [
    "\n",
    "\n",
    "## Getting Area and Median Depth\n",
    "year = 1\n",
    "sqlWhere = 'night < '+str(year*365+1)+' and filter = \"i\" and note not like \"DD%\"'\n",
    "\n",
    "slicer = slicers.HealpixSlicer(\n",
    "    lonCol='fieldRA', latCol='fieldDec', nside=nside, useCache=False\n",
    "    )\n",
    "\n",
    "metric = metrics.ExgalM5(lsstFilter='i')\n",
    "dustMap = maps.DustMap(interp=False, nside=nside)\n",
    "myBundles['0'] = metricBundles.MetricBundle(metric, slicer, constraint=sqlWhere, \n",
    "                                                       stackerList=stackerList, runName=runName,\n",
    "                                                       metadata='fom_prep', mapsList=[dustMap])\n",
    "bgroup = metricBundles.MetricBundleGroup(myBundles, opsdb, outDir=outDir, resultsDb=resultsDb)\n",
    "bgroup.runAll() \n",
    "bundle = myBundles['0']\n",
    "\n",
    "\n",
    "depth_cut = {1:24.5, 3:25, 6:25.5, 10:26}\n",
    "cond = np.logical_and.reduce((bundle.slicer.getSlicePoints()['ebv']<0.2, bundle.metricValues.mask==False, bundle.metricValues.data>depth_cit))\n",
    "depths = bundle.metricValues[cond]\n",
    "median_depth = np.median(depths)\n",
    "area = len(bundle.metricValues[cond])*hp.pixelfunc.nside2pixarea(nside=nside, degrees=True)\n",
    "\n",
    "\n",
    "\n"
   ]
  },
  {
   "cell_type": "code",
   "execution_count": 18,
   "metadata": {},
   "outputs": [],
   "source": [
    "## Calculating FoM\n",
    "if year == 1:\n",
    "    areas = [7500, 13000, 16000]\n",
    "    depths = [24.9, 25.2, 25.5]\n",
    "    fom_arr = [\n",
    "        [1.212257e+02, 1.462689e+02, 1.744913e+02],\n",
    "        [1.930906e+02, 2.365094e+02, 2.849131e+02],\n",
    "        [2.316956e+02, 2.851547e+02, 3.445717e+02]\n",
    "    ]\n",
    "elif year == 3:\n",
    "    areas = [10000, 15000, 20000]\n",
    "    depths = [25.5, 25.8, 26.1]\n",
    "    fom_arr = [\n",
    "        [1.710645e+02, 2.246047e+02, 2.431472e+02],\n",
    "        [2.445209e+02, 3.250737e+02, 3.516395e+02],\n",
    "        [3.173144e+02, 4.249317e+02, 4.595133e+02]\n",
    "    ]\n",
    "\n",
    "elif year == 6:\n",
    "    areas = [10000, 15000, 2000]\n",
    "    depths = [25.9, 26.1, 26.3]\n",
    "    fom_arr = [\n",
    "        [2.346060e+02, 2.414678e+02, 2.852043e+02],\n",
    "        [3.402318e+02, 3.493120e+02, 4.148814e+02],\n",
    "        [4.452766e+02, 4.565497e+02, 5.436992e+02]\n",
    "    ]\n",
    "    \n",
    "elif year == 10:\n",
    "    areas = [10000, 15000, 20000]\n",
    "    depths = [26.3, 26.5, 26.7]\n",
    "    fom_arr = [\n",
    "        [2.887266e+02, 2.953230e+02, 3.361616e+02],\n",
    "        [4.200093e+02, 4.292111e+02, 4.905306e+02],\n",
    "        [5.504419e+02, 5.624697e+02, 6.441837e+02]\n",
    "    ]\n",
    "\n",
    "\n",
    "areas = [[i]*3 for i in areas]\n",
    "depths = [list(depths)]*3\n",
    "from scipy import interpolate\n",
    "f = interpolate.interp2d(areas1, depths1, fom_arr, bounds_error=False)\n",
    "fom = f([area[0] for area in areas1], depths1[0])\n",
    "return fom"
   ]
  },
  {
   "cell_type": "code",
   "execution_count": 76,
   "metadata": {},
   "outputs": [],
   "source": [
    "def fom(dbFile, year):\n",
    "    print(dbFile)\n",
    "    runName = newestSimsPath+dbFile+'.db'\n",
    "    opsdb = db.OpsimDatabase(runName)\n",
    "    if year == 10:\n",
    "        sqlWhere = 'filter = \"i\" and note not like \"DD%\"'\n",
    "    else:\n",
    "        sqlWhere = 'night < '+str(year*365+1)+' and filter = \"i\" and note not like \"DD%\"'\n",
    "\n",
    "    slicer = slicers.HealpixSlicer(\n",
    "        lonCol='fieldRA', latCol='fieldDec', nside=nside, useCache=False\n",
    "        )\n",
    "    myBundles = {}\n",
    "    metric = metrics.ExgalM5(lsstFilter='i')\n",
    "    dustMap = maps.DustMap(interp=False, nside=nside)\n",
    "    myBundles['0'] = metricBundles.MetricBundle(metric, slicer, constraint=sqlWhere, \n",
    "                                                           stackerList=[], runName=runName,\n",
    "                                                           metadata='fom_prep', mapsList=[dustMap])\n",
    "    bgroup = metricBundles.MetricBundleGroup(myBundles, opsdb, outDir=outDir, resultsDb=resultsDb)\n",
    "    bgroup.runAll() \n",
    "    bundle = myBundles['0']\n",
    "\n",
    "\n",
    "    depth_cut = {1:24.5, 3:25, 6:25.5, 10:26}\n",
    "    cond = np.logical_and.reduce((bundle.slicer.getSlicePoints()['ebv']<0.2, bundle.metricValues.mask==False, bundle.metricValues.data>depth_cut[year]))\n",
    "    median_depth = np.median(bundle.metricValues[cond])\n",
    "    area = len(bundle.metricValues[cond])*hp.pixelfunc.nside2pixarea(nside=nside, degrees=True)\n",
    "    if year == 1:\n",
    "        areas = [7500, 13000, 16000]\n",
    "        depths = [24.9, 25.2, 25.5]\n",
    "        fom_arr = [\n",
    "            [1.212257e+02, 1.462689e+02, 1.744913e+02],\n",
    "            [1.930906e+02, 2.365094e+02, 2.849131e+02],\n",
    "            [2.316956e+02, 2.851547e+02, 3.445717e+02]\n",
    "        ]\n",
    "    elif year == 3:\n",
    "        areas = [10000, 15000, 20000]\n",
    "        depths = [25.5, 25.8, 26.1]\n",
    "        fom_arr = [\n",
    "            [1.710645e+02, 2.246047e+02, 2.431472e+02],\n",
    "            [2.445209e+02, 3.250737e+02, 3.516395e+02],\n",
    "            [3.173144e+02, 4.249317e+02, 4.595133e+02]\n",
    "        ]\n",
    "\n",
    "    elif year == 6:\n",
    "        areas = [10000, 15000, 2000]\n",
    "        depths = [25.9, 26.1, 26.3]\n",
    "        fom_arr = [\n",
    "            [2.346060e+02, 2.414678e+02, 2.852043e+02],\n",
    "            [3.402318e+02, 3.493120e+02, 4.148814e+02],\n",
    "            [4.452766e+02, 4.565497e+02, 5.436992e+02]\n",
    "        ]\n",
    "\n",
    "    elif year == 10:\n",
    "        areas = [10000, 15000, 20000]\n",
    "        depths = [26.3, 26.5, 26.7]\n",
    "        fom_arr = [\n",
    "            [2.887266e+02, 2.953230e+02, 3.361616e+02],\n",
    "            [4.200093e+02, 4.292111e+02, 4.905306e+02],\n",
    "            [5.504419e+02, 5.624697e+02, 6.441837e+02]\n",
    "        ]\n",
    "\n",
    "\n",
    "    areas = [[i]*3 for i in areas]\n",
    "    depths = [list(depths)]*3\n",
    "    from scipy import interpolate\n",
    "    f = interpolate.interp2d(areas, depths, fom_arr, bounds_error=False)\n",
    "    fom = f(area, median_depth)[0]\n",
    "    print(fom)\n",
    "    return fom\n",
    "\n"
   ]
  },
  {
   "cell_type": "code",
   "execution_count": 77,
   "metadata": {},
   "outputs": [],
   "source": [
    "import pickle\n",
    "fomresults = {}"
   ]
  },
  {
   "cell_type": "code",
   "execution_count": null,
   "metadata": {},
   "outputs": [
    {
     "name": "stdout",
     "output_type": "stream",
     "text": [
      "add_mag_clouds_v1.3_10yrs\n",
      "Healpix slicer using NSIDE=256, approximate resolution 13.741946 arcminutes\n",
      "Querying database SummaryAllProps with constraint filter = \"i\" and note not like \"DD%\" for columns ['fieldRA', 'fiveSigmaDepth', 'fieldDec']\n",
      "Found 428965 visits\n",
      "Running:  ['0']\n",
      "Completed metric generation.\n",
      "Running reduce methods.\n",
      "Running summary statistics.\n",
      "Completed.\n",
      "435.637945126161\n",
      "agnddf_illum10_v1.3_10yrs\n",
      "Healpix slicer using NSIDE=256, approximate resolution 13.741946 arcminutes\n",
      "Querying database SummaryAllProps with constraint filter = \"i\" and note not like \"DD%\" for columns ['fieldRA', 'fiveSigmaDepth', 'fieldDec']\n",
      "Found 451194 visits\n",
      "Running:  ['0']\n",
      "Completed metric generation.\n",
      "Running reduce methods.\n",
      "Running summary statistics.\n",
      "Completed.\n",
      "435.1238531143017\n",
      "agnddf_illum15_v1.3_10yrs\n",
      "Healpix slicer using NSIDE=256, approximate resolution 13.741946 arcminutes\n",
      "Querying database SummaryAllProps with constraint filter = \"i\" and note not like \"DD%\" for columns ['fieldRA', 'fiveSigmaDepth', 'fieldDec']\n"
     ]
    }
   ],
   "source": [
    "for sim in newestSims:\n",
    "    fomresults[sim] = fom(sim, 10)\n",
    "    pickle.dump(fomresults, open('fom_results_y10.p', 'wb'))"
   ]
  },
  {
   "cell_type": "code",
   "execution_count": null,
   "metadata": {},
   "outputs": [],
   "source": []
  },
  {
   "cell_type": "code",
   "execution_count": 42,
   "metadata": {},
   "outputs": [
    {
     "data": {
      "text/plain": [
       "[[121.2257, 146.2689, 174.4913],\n",
       " [193.0906, 236.5094, 284.9131],\n",
       " [231.6956, 285.1547, 344.5717]]"
      ]
     },
     "execution_count": 42,
     "metadata": {},
     "output_type": "execute_result"
    }
   ],
   "source": [
    "fom_arr"
   ]
  },
  {
   "cell_type": "code",
   "execution_count": 41,
   "metadata": {},
   "outputs": [],
   "source": []
  },
  {
   "cell_type": "code",
   "execution_count": 43,
   "metadata": {},
   "outputs": [],
   "source": [
    "renorm_value = -100.0\n",
    "\n"
   ]
  },
  {
   "cell_type": "code",
   "execution_count": 45,
   "metadata": {},
   "outputs": [
    {
     "data": {
      "text/plain": [
       "array([[121.2257, 146.2689, 174.4913],\n",
       "       [193.0906, 236.5094, 284.9131],\n",
       "       [231.6956, 285.1547, 344.5717]])"
      ]
     },
     "execution_count": 45,
     "metadata": {},
     "output_type": "execute_result"
    }
   ],
   "source": [
    "emulated_grid_fom_vals.T"
   ]
  },
  {
   "cell_type": "code",
   "execution_count": 46,
   "metadata": {},
   "outputs": [
    {
     "data": {
      "text/plain": [
       "array([232.12693118])"
      ]
     },
     "execution_count": 46,
     "metadata": {},
     "output_type": "execute_result"
    }
   ],
   "source": [
    "f(14075.69, 25.06)"
   ]
  },
  {
   "cell_type": "code",
   "execution_count": 47,
   "metadata": {},
   "outputs": [
    {
     "data": {
      "text/plain": [
       "array([225.86034513])"
      ]
     },
     "execution_count": 47,
     "metadata": {},
     "output_type": "execute_result"
    }
   ],
   "source": [
    "f(15544.35, 24.90)"
   ]
  },
  {
   "cell_type": "code",
   "execution_count": 48,
   "metadata": {},
   "outputs": [
    {
     "data": {
      "text/plain": [
       "array([245.61477842])"
      ]
     },
     "execution_count": 48,
     "metadata": {},
     "output_type": "execute_result"
    }
   ],
   "source": [
    "f(15000, 25.06)"
   ]
  },
  {
   "cell_type": "code",
   "execution_count": 39,
   "metadata": {},
   "outputs": [
    {
     "data": {
      "text/plain": [
       "([7500.0, 13000.0, 16000.0], [24.9, 25.2, 25.5])"
      ]
     },
     "execution_count": 39,
     "metadata": {},
     "output_type": "execute_result"
    }
   ],
   "source": [
    "[area[0] for area in areas1], depths1[0]"
   ]
  },
  {
   "cell_type": "code",
   "execution_count": null,
   "metadata": {},
   "outputs": [],
   "source": []
  }
 ],
 "metadata": {
  "kernelspec": {
   "display_name": "imsim",
   "language": "python",
   "name": "imsim"
  },
  "language_info": {
   "codemirror_mode": {
    "name": "ipython",
    "version": 3
   },
   "file_extension": ".py",
   "mimetype": "text/x-python",
   "name": "python",
   "nbconvert_exporter": "python",
   "pygments_lexer": "ipython3",
   "version": "3.7.2"
  }
 },
 "nbformat": 4,
 "nbformat_minor": 4
}
