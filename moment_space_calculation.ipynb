{
 "cells": [
  {
   "cell_type": "markdown",
   "metadata": {},
   "source": [
    "From our model, we get $$\\Delta e_1 = \\epsilon e_1^{PSF} = e_1^{*}-e_1^{PSF},$$ \n",
    "\n",
    "$$\\Delta e_2 = \\epsilon e_2^{PSF} = e_2^{*}-e_2^{PSF},$$\n",
    "\n",
    "$$\\sigma^{*}, \\sigma^{PSF},$$ and\n",
    "\n",
    "$$ e_{+}^{*}, e_{\\times}^{*} $$\n",
    "\n",
    "but $$ \\begin{bmatrix} e_1 \\\\ \n",
    "e_2\n",
    "\\end{bmatrix} =  \\begin{bmatrix}\n",
    "cos 2\\theta & -sin 2\\theta \\\\\n",
    "sin 2\\theta & cos 2\\theta \n",
    "\\end{bmatrix} \\begin{bmatrix} e_{+} \\\\ \n",
    "e_{\\times} \n",
    "\\end{bmatrix}$$\n",
    "from which we get $e_1^{*}$ and $e_2^{*}$\n",
    "\n",
    "\n",
    "then $ e_i^{PSF} = e_i^{*}/(1+\\epsilon) $ where $i=1,2$ and $\\epsilon$ is a small number compared to 1.\n",
    "\n",
    "\n",
    "$$ e_1^{k} = \\frac{M_{xx}^k - M_{yy}^k}{TrM^k} $$ and $$ e_2^k = \\frac{2M_{xy}^k }{TrM^k} $$\n",
    "where $k$ is either PSF or *; and $TrM = M_{xx} + M_{yy} = 2\\sigma^2$\n",
    "solving for $M_{ij}$ we get:\n",
    "\n",
    "$$M^{k} = \\frac{TrM^k}{2} \\begin{bmatrix}\n",
    "    \\Delta e_1 + 1       & \\Delta e_2  \\\\\n",
    "    \\Delta e_2       &  -\\Delta e_1 + 1\n",
    "\\end{bmatrix}$$\n",
    "\n",
    "then after taking the arithmetic mean of each of $M_{ij}$ to get $\\langle M _{ij}\\rangle = \\sum_l^N M_{ij,l}/N $, we can go back to e-space:\n",
    "\n",
    "$$ e_1^{k} = \\frac{M_{xx}^k - M_{yy}^k}{TrM^k} $$ and $$ e_2^k = \\frac{2M_{xy}^k }{TrM^k} $$ and $$\\sigma^k = \\sqrt{TrM^k/2} $$\n",
    "the difference in these quantities between PSF and * define the corresponding residual quantities."
   ]
  }
 ],
 "metadata": {
  "kernelspec": {
   "display_name": "Python 3",
   "language": "python",
   "name": "python3"
  },
  "language_info": {
   "codemirror_mode": {
    "name": "ipython",
    "version": 2
   },
   "file_extension": ".py",
   "mimetype": "text/x-python",
   "name": "python",
   "nbconvert_exporter": "python",
   "pygments_lexer": "ipython2",
   "version": "2.7.13"
  }
 },
 "nbformat": 4,
 "nbformat_minor": 2
}
