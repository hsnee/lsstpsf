{
 "cells": [
  {
   "cell_type": "code",
   "execution_count": 4,
   "metadata": {},
   "outputs": [
    {
     "name": "stdout",
     "output_type": "stream",
     "text": [
      "Populating the interactive namespace from numpy and matplotlib\n"
     ]
    }
   ],
   "source": [
    "%pylab inline\n",
    "from scipy import stats\n",
    "from angles import r2d, r2arcs, d2arcs, arcs2r\n",
    "def arcm2r(theta):\n",
    "    return arcs2r(theta*60)\n",
    "import seaborn as sns;sns.set_style('darkgrid')\n",
    "import lsst.sims.maf.stackers as stackers\n",
    "%config InlineBackend.figure_format = 'retina'\n",
    "matplotlib.rcParams['figure.figsize'] = 19, 14\n",
    "import lsst.sims.maf.slicers as slicers\n",
    "import lsst.sims.maf.metrics as metrics\n",
    "import lsst.sims.maf.metricBundles as metricBundles\n",
    "import lsst.sims.maf.db as db\n",
    "import lsst.sims.maf.maps as maps\n",
    "from collections import defaultdict\n",
    "from itertools import chain\n",
    "sns.set_context('poster', font_scale=1.4)\n",
    "import healpy as hp\n",
    "import pickle\n",
    "import plotly\n",
    "import plotly.plotly as py\n",
    "import plotly.figure_factory as ff\n",
    "import plotly.graph_objs as go"
   ]
  },
  {
   "cell_type": "code",
   "execution_count": 8,
   "metadata": {},
   "outputs": [],
   "source": [
    "def noebv(year=10, runName='baseline2018a'):\n",
    "    proposalId = 3\n",
    "    nights = year*365 + 1\n",
    "    directory = '/global/cscratch1/sd/husni/OpsimRuns/'\n",
    "    opsdb = db.OpsimDatabase(directory+runName+'.db')\n",
    "    outDir = 'temp'\n",
    "    resultsDb = db.ResultsDb(outDir=outDir)\n",
    "    nside = 256\n",
    "    myBundles = {}\n",
    "    sqlWhere = 'night < '+str(nights)+' and \\\n",
    "    filter = \"i\" and proposalId = '+str(proposalId)\n",
    "\n",
    "    slicer = slicers.HealpixSlicer(\n",
    "        lonCol='fieldRA', latCol='fieldDec', nside=nside, useCache=False\n",
    "        )\n",
    "\n",
    "    metric = metrics.ExgalM5(lsstFilter='i')\n",
    "    dustMap = maps.DustMap(interp=False, nside=nside)\n",
    "    stackerList = [stackers.RandomDitherFieldPerVisitStacker(degrees=True)]\n",
    "\n",
    "    myBundles['field'] = metricBundles.MetricBundle(metric, slicer, constraint=sqlWhere, \n",
    "                                                           stackerList=stackerList, runName=runName,\n",
    "                                                           metadata='field dither', mapsList=[dustMap])\n",
    "    bgroup = metricBundles.MetricBundleGroup(myBundles, opsdb, outDir=outDir, resultsDb=resultsDb)\n",
    "    bgroup.runAll() \n",
    "    bundle = myBundles['field']\n",
    "    cond = bundle.metricValues.mask==False\n",
    "    area = len(bundle.metricValues[cond])*hp.pixelfunc.nside2pixarea(nside=nside, degrees=True)\n",
    "    return area"
   ]
  },
  {
   "cell_type": "code",
   "execution_count": 9,
   "metadata": {},
   "outputs": [],
   "source": [
    "def withebv(runName='baseline2018a', year=10):\n",
    "    proposalId = 3\n",
    "    nights = year*365 + 1\n",
    "    directory = '/global/cscratch1/sd/husni/OpsimRuns/'\n",
    "    opsdb = db.OpsimDatabase(directory+runName+'.db')\n",
    "    outDir = 'temp'\n",
    "    resultsDb = db.ResultsDb(outDir=outDir)\n",
    "    nside = 256\n",
    "    myBundles = {}\n",
    "    sqlWhere = 'night < '+str(nights)+' and \\\n",
    "    filter = \"i\" and proposalId = '+str(proposalId)\n",
    "\n",
    "    slicer = slicers.HealpixSlicer(\n",
    "        lonCol='fieldRA', latCol='fieldDec', nside=nside, useCache=False\n",
    "        )\n",
    "\n",
    "    metric = metrics.ExgalM5(lsstFilter='i')\n",
    "    dustMap = maps.DustMap(interp=False, nside=nside)\n",
    "    stackerList = [stackers.RandomDitherFieldPerVisitStacker(degrees=True)]\n",
    "\n",
    "    myBundles['field'] = metricBundles.MetricBundle(metric, slicer, constraint=sqlWhere, \n",
    "                                                           stackerList=stackerList, runName=runName,\n",
    "                                                           metadata='field dither', mapsList=[dustMap])\n",
    "    bgroup = metricBundles.MetricBundleGroup(myBundles, opsdb, outDir=outDir, resultsDb=resultsDb)\n",
    "    bgroup.runAll() \n",
    "    bundle = myBundles['field']\n",
    "    \n",
    "    cond = np.logical_and(bundle.slicer.getSlicePoints()['ebv']<0.2, bundle.metricValues.mask==False)\n",
    "    area = len(bundle.metricValues[cond])*hp.pixelfunc.nside2pixarea(nside=nside, degrees=True)\n",
    "    return area"
   ]
  },
  {
   "cell_type": "code",
   "execution_count": 10,
   "metadata": {},
   "outputs": [
    {
     "name": "stdout",
     "output_type": "stream",
     "text": [
      "Healpix slicer using NSIDE=256, approximate resolution 13.741946 arcminutes\n",
      "Querying database SummaryAllProps with constraint night < 3651 and     filter = \"i\" and proposalId = 3 for columns ['fieldRA', 'fieldDec', 'fiveSigmaDepth']\n",
      "Found 444867 visits\n",
      "Running:  ['field']\n",
      "Completed metric generation.\n",
      "Running reduce methods.\n",
      "Running summary statistics.\n",
      "Completed.\n"
     ]
    }
   ],
   "source": [
    "beforecut = noebv()"
   ]
  },
  {
   "cell_type": "code",
   "execution_count": 11,
   "metadata": {},
   "outputs": [
    {
     "name": "stdout",
     "output_type": "stream",
     "text": [
      "Healpix slicer using NSIDE=256, approximate resolution 13.741946 arcminutes\n",
      "Querying database SummaryAllProps with constraint night < 3651 and     filter = \"i\" and proposalId = 3 for columns ['fieldRA', 'fieldDec', 'fiveSigmaDepth']\n",
      "Found 444867 visits\n",
      "Running:  ['field']\n",
      "Completed metric generation.\n",
      "Running reduce methods.\n",
      "Running summary statistics.\n",
      "Completed.\n"
     ]
    }
   ],
   "source": [
    "aftercut = withebv()"
   ]
  },
  {
   "cell_type": "code",
   "execution_count": 12,
   "metadata": {},
   "outputs": [
    {
     "name": "stdout",
     "output_type": "stream",
     "text": [
      "18040.40708040273 14695.716992530577 -3344.6900878721517\n"
     ]
    }
   ],
   "source": [
    "print(beforecut, aftercut, aftercut-beforecut)"
   ]
  },
  {
   "cell_type": "code",
   "execution_count": 13,
   "metadata": {},
   "outputs": [],
   "source": [
    "def withebvdepth(runName='baseline2018a', year=10):\n",
    "    proposalId = 3\n",
    "    nights = year*365 + 1\n",
    "    directory = '/global/cscratch1/sd/husni/OpsimRuns/'\n",
    "    opsdb = db.OpsimDatabase(directory+runName+'.db')\n",
    "    outDir = 'temp'\n",
    "    resultsDb = db.ResultsDb(outDir=outDir)\n",
    "    nside = 256\n",
    "    myBundles = {}\n",
    "    sqlWhere = 'night < '+str(nights)+' and \\\n",
    "    filter = \"i\" and proposalId = '+str(proposalId)\n",
    "\n",
    "    slicer = slicers.HealpixSlicer(\n",
    "        lonCol='fieldRA', latCol='fieldDec', nside=nside, useCache=False\n",
    "        )\n",
    "\n",
    "    metric = metrics.ExgalM5(lsstFilter='i')\n",
    "    dustMap = maps.DustMap(interp=False, nside=nside)\n",
    "    stackerList = [stackers.RandomDitherFieldPerVisitStacker(degrees=True)]\n",
    "\n",
    "    myBundles['field'] = metricBundles.MetricBundle(metric, slicer, constraint=sqlWhere, \n",
    "                                                           stackerList=stackerList, runName=runName,\n",
    "                                                           metadata='field dither', mapsList=[dustMap])\n",
    "    bgroup = metricBundles.MetricBundleGroup(myBundles, opsdb, outDir=outDir, resultsDb=resultsDb)\n",
    "    bgroup.runAll() \n",
    "    bundle = myBundles['field']\n",
    "    vmin = 26\n",
    "    cond = np.logical_and.reduce((bundle.slicer.getSlicePoints()['ebv']<0.2, bundle.metricValues.mask==False, bundle.metricValues.data>vmin))\n",
    "    area = len(bundle.metricValues[cond])*hp.pixelfunc.nside2pixarea(nside=nside, degrees=True)\n",
    "    return area"
   ]
  },
  {
   "cell_type": "code",
   "execution_count": 14,
   "metadata": {},
   "outputs": [
    {
     "name": "stdout",
     "output_type": "stream",
     "text": [
      "Healpix slicer using NSIDE=256, approximate resolution 13.741946 arcminutes\n",
      "Querying database SummaryAllProps with constraint night < 3651 and     filter = \"i\" and proposalId = 3 for columns ['fieldRA', 'fieldDec', 'fiveSigmaDepth']\n",
      "Found 444867 visits\n",
      "Running:  ['field']\n",
      "Completed metric generation.\n",
      "Running reduce methods.\n",
      "Running summary statistics.\n",
      "Completed.\n"
     ]
    }
   ],
   "source": [
    "after2cuts = withebvdepth()"
   ]
  },
  {
   "cell_type": "code",
   "execution_count": 16,
   "metadata": {},
   "outputs": [
    {
     "data": {
      "text/plain": [
       "14695.716992530577"
      ]
     },
     "execution_count": 16,
     "metadata": {},
     "output_type": "execute_result"
    }
   ],
   "source": [
    "aftercut"
   ]
  },
  {
   "cell_type": "code",
   "execution_count": 15,
   "metadata": {},
   "outputs": [
    {
     "name": "stdout",
     "output_type": "stream",
     "text": [
      "14691.205789187567\n"
     ]
    }
   ],
   "source": [
    "print(after2cuts)"
   ]
  },
  {
   "cell_type": "code",
   "execution_count": null,
   "metadata": {},
   "outputs": [],
   "source": []
  }
 ],
 "metadata": {
  "kernelspec": {
   "display_name": "imsim",
   "language": "python",
   "name": "imsim"
  },
  "language_info": {
   "codemirror_mode": {
    "name": "ipython",
    "version": 3
   },
   "file_extension": ".py",
   "mimetype": "text/x-python",
   "name": "python",
   "nbconvert_exporter": "python",
   "pygments_lexer": "ipython3",
   "version": "3.6.2"
  }
 },
 "nbformat": 4,
 "nbformat_minor": 2
}
