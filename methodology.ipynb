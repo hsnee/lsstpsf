{
 "cells": [
  {
   "cell_type": "markdown",
   "metadata": {},
   "source": [
    "From our model, we start with a **purely radial toy model** $e_{+}^*,e_{\\times}^*, \\sigma^*$, with star ellipticities around 0.05. then, for $\\omega \\sim 0.03$ assuming the error in PSF is of the order of $3\\%$, we can define  \n",
    "\n",
    "$$\\Delta e_1 = \\omega e_1^{PSF} = e_1^{*}-e_1^{PSF},$$ \n",
    "\n",
    "$$\\Delta e_2 = \\omega e_2^{PSF} = e_2^{*}-e_2^{PSF},$$\n",
    "\n",
    "which are e.g. radial models (qualitatively observed in previous surveys), and $\\sigma^{PSF} \\sim \\sigma^*$ (as an example, a reasonable $\\sigma$ would be 0.4 arcsec (or a FWHM of 0.7 arcsec $-$ [median for LSST](https://www.lsst.org/sites/default/files/docs/137.01_Wolff_LSST_System_8x10.pdf)).\n",
    "\n",
    "We can get $e_1^*, e_2^*$ using $ \\begin{bmatrix} e_1 \\\\ \n",
    "e_2\n",
    "\\end{bmatrix} =  \\begin{bmatrix}\n",
    "cos 2\\theta & -sin 2\\theta \\\\\n",
    "sin 2\\theta & cos 2\\theta \n",
    "\\end{bmatrix} \\begin{bmatrix} e_{+} \\\\ \n",
    "e_{\\times} \n",
    "\\end{bmatrix}$\n",
    "\n",
    "\n",
    "\n",
    "then $ e_i^{PSF} = e_i^{*}/(1+\\omega) $ where $i=1,2$.\n"
   ]
  },
  {
   "cell_type": "markdown",
   "metadata": {
    "collapsed": true
   },
   "source": [
    "\n",
    "By definition: $ e_1^{k} = \\frac{M_{xx}^k - M_{yy}^k}{TrM^k} $  and $ e_2^k = \\frac{2M_{xy}^k }{TrM^k} \\;$  \n",
    "where $k$ is either PSF or *; and $TrM = M_{xx} + M_{yy}$.\n",
    "\n",
    "Solving for $M_{ij}$ we get:\n",
    "\n",
    "$$M^{k} = \\frac{TrM^k}{2} \\begin{bmatrix}\n",
    "     e_1 + 1       &  e_2  \\\\\n",
    "     e_2       &  - e_1 + 1\n",
    "\\end{bmatrix}$$\n",
    "\n",
    "then after taking the arithmetic mean of each matrix element $M_{ij}^k$ to get $\\langle M^k \\rangle = \\sum_{l=1}^N M_{ij,l}^k$ for an exposure $l$ over all exposures at a certain point, we can go back to e-space:\n",
    "\n",
    "$$ e_1^{k} = \\frac{M_{xx}^k - M_{yy}^k}{TrM^k} $$ and $$ e_2^k = \\frac{2M_{xy}^k }{TrM^k} $$ and $$\\sigma = \\sqrt{TrM^k/2} $$ Averaging down should be true regardless of the PSF model. "
   ]
  },
  {
   "cell_type": "code",
   "execution_count": null,
   "metadata": {
    "collapsed": true
   },
   "outputs": [],
   "source": []
  }
 ],
 "metadata": {
  "kernelspec": {
   "display_name": "Python 3",
   "language": "python",
   "name": "python3"
  },
  "language_info": {
   "codemirror_mode": {
    "name": "ipython",
    "version": 2
   },
   "file_extension": ".py",
   "mimetype": "text/x-python",
   "name": "python",
   "nbconvert_exporter": "python",
   "pygments_lexer": "ipython2",
   "version": "2.7.14"
  }
 },
 "nbformat": 4,
 "nbformat_minor": 2
}
