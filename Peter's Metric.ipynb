{
 "cells": [
  {
   "cell_type": "code",
   "execution_count": 1,
   "metadata": {},
   "outputs": [
    {
     "name": "stdout",
     "output_type": "stream",
     "text": [
      "Populating the interactive namespace from numpy and matplotlib\n"
     ]
    }
   ],
   "source": [
    "from __future__ import division\n",
    "%pylab inline\n",
    "from scipy import stats\n",
    "from angles import r2d, r2arcs, d2arcs, arcs2r\n",
    "def arcm2r(theta):\n",
    "    return arcs2r(theta*60)\n",
    "import seaborn as sns;sns.set_style('darkgrid')\n",
    "import lsst.sims.maf.stackers as stackers\n",
    "import treecorr as tr\n",
    "%config InlineBackend.figure_format = 'retina'\n",
    "matplotlib.rcParams['figure.figsize'] = 19,14\n",
    "import lsst.sims.maf.slicers as slicers\n",
    "import lsst.sims.maf.metrics as metrics\n",
    "import lsst.sims.maf.metricBundles as metricBundles\n",
    "import lsst.sims.maf.db as db\n",
    "from collections import defaultdict\n",
    "import treecorr\n",
    "from itertools import chain\n",
    "sns.set_context('poster',font_scale=1.4)"
   ]
  },
  {
   "cell_type": "code",
   "execution_count": null,
   "metadata": {},
   "outputs": [],
   "source": [
    "import lsst.sims.maf.db as db\n",
    "import lsst.sims.maf.metrics as metrics\n",
    "import lsst.sims.maf.slicers as slicers\n",
    "import lsst.sims.maf.batches as batches\n",
    "import lsst.sims.maf.stackers as stackers\n",
    "import lsst.sims.maf.metricBundles as metricBundles\n",
    "from scipy.stats import uniform, kstest"
   ]
  },
  {
   "cell_type": "code",
   "execution_count": null,
   "metadata": {},
   "outputs": [],
   "source": [
    "def compass_bearing(lon1, lat1, lon2, lat2):\n",
    "    \"\"\"Calculate the bearing between two points\n",
    "    \n",
    "    Parameters\n",
    "    ----------\n",
    "    lon1 : float (or array)\n",
    "        The longitude(s) for starting point(s) (radians)\n",
    "    lat1 : float (or arrray)\n",
    "        The latitudes(s) for the starting point(s) (radians)\n",
    "    lon2 : float (or array)\n",
    "        The longitude for the ending point(s) (radians)\n",
    "    lat2 : float (or array)\n",
    "        The latitude for the ending point(s) (radians)\n",
    "        \n",
    "    Returns\n",
    "    -------\n",
    "    bearing in radians (between 0 and 2pi)\n",
    "        \n",
    "    \"\"\"\n",
    "    long_diff = lon2 - lon1\n",
    "    x = np.sin(long_diff)*np.cos(lat2)\n",
    "    y = np.cos(lat1)*np.sin(lat2)-np.sin(lat1)*np.cos(lat2)*np.cos(long_diff)\n",
    "    result = np.arctan2(x, y)\n",
    "    result = (result+2*np.pi) % (2.*np.pi)\n",
    "    return result\n",
    "\n"
   ]
  },
  {
   "cell_type": "code",
   "execution_count": null,
   "metadata": {},
   "outputs": [],
   "source": [
    "test_positions = {}\n",
    "class AngleDist2PointingCenter(metrics.BaseMetric):\n",
    "    \"\"\"See how flat the distributing of angles pointing to the center of the FoV is\n",
    "    \n",
    "    Uses the KStest statistic--values of 0 are perfectly uniform, values of 1 are totally non-uniform.\n",
    "    \"\"\"\n",
    "    def __init__(self, latCol='dec', lonCol='RA', degrees=True,\n",
    "                 metricName='Pointing Center Distribution', **kwargs):\n",
    "        # Make a uniform distribution beween 0 and 2pi\n",
    "        col = [latCol, lonCol]\n",
    "        self.latCol = latCol\n",
    "        self.lonCol = lonCol\n",
    "        super(AngleDist2PointingCenter, self).__init__(col=col, units='KS Statistic',\n",
    "                                                       metricName=metricName, **kwargs)\n",
    "        self.dist = uniform(loc=0, scale=2.*np.pi)\n",
    "        self.degrees = degrees\n",
    "    def run(self, dataSlice, slicePoint=None):\n",
    "        if self.degrees:\n",
    "            lat2 = np.radians(dataSlice[self.latCol])\n",
    "            lon2 = np.radians(dataSlice[self.lonCol])\n",
    "        else:\n",
    "            lat2 = dataSlice[self.latCol]\n",
    "            lon2 = dataSlice[self.lonCol]\n",
    "        global test_positions\n",
    "        test_positions['lon2, lat2'] = (lon2, lat2)\n",
    "        test_positions['slicepoint'] = (slicePoint['ra'], slicePoint['dec'])\n",
    "        # Bearing from this point in the sky to all the pointing centers\n",
    "        bearings = compass_bearing(slicePoint['ra'], slicePoint['dec'], lon2, lat2)\n",
    "        ks_result = kstest(bearings, self.dist.cdf)\n",
    "        return ks_result.pvalue\n",
    "\n"
   ]
  },
  {
   "cell_type": "code",
   "execution_count": null,
   "metadata": {},
   "outputs": [],
   "source": []
  },
  {
   "cell_type": "markdown",
   "metadata": {},
   "source": [
    "### Random"
   ]
  },
  {
   "cell_type": "code",
   "execution_count": null,
   "metadata": {},
   "outputs": [],
   "source": [
    "outDir='temp'\n",
    "conn = db.OpsimDatabaseV3('simruns/minion_1012_sqlite.db')\n",
    "bundleList = []\n",
    "sql = 'filter = \"r\" and night < 3653 \\\n",
    "and fieldRA < {} and fieldDec > {} \\\n",
    "and fieldRA > 0 and fieldDec < 0'.format(np.radians(200), np.radians(-50))\n",
    "metric = AngleDist2PointingCenter(latCol='randomDitherFieldPerVisitDec', lonCol='randomDitherFieldPerVisitRa', degrees=False)\n",
    "slicer = slicers.HealpixSlicer(nside=128, latCol='randomDitherFieldPerVisitDec', lonCol='randomDitherFieldPerVisitRa', latLonDeg=False)\n",
    "dith_stack = stackers.RandomDitherFieldPerVisitStacker(raCol='fieldRA', decCol='fieldDec', degrees=False)\n",
    "bundleList.append(metricBundles.MetricBundle(metric, slicer, sql, stackerList=[dith_stack]))\n",
    "bd = metricBundles.makeBundlesDictFromList(bundleList)\n",
    "mbg = metricBundles.MetricBundleGroup(bd, conn, outDir=outDir)\n",
    "mbg.runAll()\n",
    "\n",
    "\n",
    "results_bundle = bd['opsim_Pointing_Center_Distribution_r_and_night_lt_3653_and_fieldRA_lt_3_490658503988659_and_fieldDec_gt_-0_8726646259971648_and_fieldRA_gt_0_and_fieldDec_lt_0_HEAL']\n",
    "\n",
    "random_hist = results_bundle.metricValues.data[np.where(results_bundle.metricValues.mask==False)]"
   ]
  },
  {
   "cell_type": "markdown",
   "metadata": {},
   "source": [
    "### Hexagonal"
   ]
  },
  {
   "cell_type": "code",
   "execution_count": null,
   "metadata": {},
   "outputs": [],
   "source": [
    "outDir='temp'\n",
    "conn = db.OpsimDatabaseV3('simruns/minion_1012_sqlite.db')\n",
    "bundleList = []\n",
    "sql = 'filter = \"r\" and night < 3653 \\\n",
    "and fieldRA < {} and fieldDec > {} \\\n",
    "and fieldRA > 0 and fieldDec < 0'.format(np.radians(200), np.radians(-50))\n",
    "metric = AngleDist2PointingCenter(latCol='hexDitherFieldPerVisitDec', lonCol='hexDitherFieldPerVisitRa', degrees=False)\n",
    "slicer = slicers.HealpixSlicer(nside=128, latCol='hexDitherFieldPerVisitDec', lonCol='hexDitherFieldPerVisitRa', latLonDeg=False)\n",
    "dith_stack = stackers.HexDitherFieldPerVisitStacker(raCol='fieldRA', decCol='fieldDec', degrees=False, fieldIdCol='fieldID')\n",
    "bundleList.append(metricBundles.MetricBundle(metric, slicer, sql, stackerList=[dith_stack]))\n",
    "bd = metricBundles.makeBundlesDictFromList(bundleList)\n",
    "mbg = metricBundles.MetricBundleGroup(bd, conn, outDir=outDir)\n",
    "mbg.runAll()\n",
    "conn.close()\n",
    "\n",
    "\n",
    "results_bundle = bd['opsim_Pointing_Center_Distribution_r_and_night_lt_3653_and_fieldRA_lt_3_490658503988659_and_fieldDec_gt_-0_8726646259971648_and_fieldRA_gt_0_and_fieldDec_lt_0_HEAL']\n",
    "\n",
    "hex_hist = results_bundle.metricValues.data[np.where(results_bundle.metricValues.mask==False)]"
   ]
  },
  {
   "cell_type": "markdown",
   "metadata": {},
   "source": [
    "### Spiral"
   ]
  },
  {
   "cell_type": "code",
   "execution_count": null,
   "metadata": {},
   "outputs": [],
   "source": [
    "outDir='temp'\n",
    "conn = db.OpsimDatabaseV3('simruns/minion_1012_sqlite.db')\n",
    "bundleList = []\n",
    "sql = 'filter = \"r\" and night < 3653 \\\n",
    "and fieldRA < {} and fieldDec > {} \\\n",
    "and fieldRA > 0 and fieldDec < 0'.format(np.radians(200), np.radians(-50))\n",
    "metric = AngleDist2PointingCenter(latCol='spiralDitherFieldPerVisitDec', lonCol='spiralDitherFieldPerVisitRa', degrees=False)\n",
    "slicer = slicers.HealpixSlicer(nside=128, latCol='spiralDitherFieldPerVisitDec', lonCol='spiralDitherFieldPerVisitRa', latLonDeg=False)\n",
    "dith_stack = stackers.SpiralDitherFieldPerVisitStacker(raCol='fieldRA', decCol='fieldDec', degrees=False, fieldIdCol='fieldID')\n",
    "bundleList.append(metricBundles.MetricBundle(metric, slicer, sql, stackerList=[dith_stack]))\n",
    "bd = metricBundles.makeBundlesDictFromList(bundleList)\n",
    "mbg = metricBundles.MetricBundleGroup(bd, conn, outDir=outDir)\n",
    "mbg.runAll()\n",
    "conn.close()\n",
    "\n",
    "\n",
    "results_bundle = bd['opsim_Pointing_Center_Distribution_r_and_night_lt_3653_and_fieldRA_lt_3_490658503988659_and_fieldDec_gt_-0_8726646259971648_and_fieldRA_gt_0_and_fieldDec_lt_0_HEAL']\n",
    "\n",
    "spiral_hist = results_bundle.metricValues.data[np.where(results_bundle.metricValues.mask==False)]"
   ]
  },
  {
   "cell_type": "markdown",
   "metadata": {},
   "source": [
    "## Feature Baseline"
   ]
  },
  {
   "cell_type": "code",
   "execution_count": null,
   "metadata": {},
   "outputs": [],
   "source": [
    "outDir='temp'\n",
    "conn = db.OpsimDatabaseV4('simruns/feature_baseline_update_10yrsv2')\n",
    "resultsDb = db.ResultsDb(outDir=outDir)\n",
    "\n",
    "bundleList = []\n",
    "sql = 'filter = \"r\" and night < 3653 \\\n",
    "and fieldRA < {} and fieldDec > {} \\\n",
    "and fieldRA > 0 and fieldDec < 0 and proposalId = 0'.format(200,-50)\n",
    "metric = AngleDist2PointingCenter(latCol='fieldDec', lonCol='fieldRA')\n",
    "slicer = slicers.HealpixSlicer(nside=128, latCol='fieldDec', lonCol='fieldRA')\n",
    "bundleList.append(metricBundles.MetricBundle(metric, slicer, sql))\n",
    "bd = metricBundles.makeBundlesDictFromList(bundleList)\n",
    "mbg = metricBundles.MetricBundleGroup(bd, conn, outDir=outDir)\n",
    "mbg.runAll()\n",
    "conn.close()\n",
    "\n",
    "results_bundle = bd['opsim_Pointing_Center_Distribution_r_and_night_lt_3653_and_fieldRA_lt_200_and_fieldDec_gt_-50_and_fieldRA_gt_0_and_fieldDec_lt_0_and_proposalId_0_HEAL']\n",
    "\n",
    "feature_hist = results_bundle.metricValues.data[np.where(results_bundle.metricValues.mask==False)]"
   ]
  },
  {
   "cell_type": "markdown",
   "metadata": {},
   "source": [
    "### ALT_Sched"
   ]
  },
  {
   "cell_type": "code",
   "execution_count": null,
   "metadata": {},
   "outputs": [],
   "source": [
    "outDir='temp'\n",
    "conn = db.OpsimDatabaseV4('simruns/alt_sched.db')\n",
    "resultsDb = db.ResultsDb(outDir=outDir)\n",
    "\n",
    "bundleList = []\n",
    "sql = 'filter = \"r\" and night < 3653 \\\n",
    "and fieldRA < {} and fieldDec > {} \\\n",
    "and fieldRA > 0 and fieldDec < 0 and proposalId = 0'.format(200,-50)\n",
    "metric = AngleDist2PointingCenter(latCol='fieldDec', lonCol='fieldRA')\n",
    "slicer = slicers.HealpixSlicer(nside=128, latCol='fieldDec', lonCol='fieldRA')\n",
    "bundleList.append(metricBundles.MetricBundle(metric, slicer, sql))\n",
    "bd = metricBundles.makeBundlesDictFromList(bundleList)\n",
    "mbg = metricBundles.MetricBundleGroup(bd, conn, outDir=outDir)\n",
    "mbg.runAll()\n",
    "conn.close()\n",
    "\n",
    "results_bundle = bd['opsim_Pointing_Center_Distribution_r_and_night_lt_3653_and_fieldRA_lt_200_and_fieldDec_gt_-50_and_fieldRA_gt_0_and_fieldDec_lt_0_and_proposalId_0_HEAL']\n",
    "\n",
    "alt_hist = results_bundle.metricValues.data[np.where(results_bundle.metricValues.mask==False)]"
   ]
  },
  {
   "cell_type": "code",
   "execution_count": null,
   "metadata": {},
   "outputs": [],
   "source": [
    "plt.hist(random_hist, label='random', bins=100, alpha=0.5)\n",
    "plt.hist(spiral_hist, label='spiral', bins=100, alpha=0.5)\n",
    "plt.hist(hex_hist, label='hex', bins=100, alpha=0.5)\n",
    "plt.hist(alt_hist, label='alt_sched', bins=100, alpha=0.5)\n",
    "plt.hist(feature_hist, label='featureBaseline', bins=100, alpha=0.5)\n",
    "\n",
    "\n",
    "plt.xscale('log')\n",
    "plt.title('D-Statistic')\n",
    "plt.legend()"
   ]
  },
  {
   "cell_type": "code",
   "execution_count": null,
   "metadata": {},
   "outputs": [],
   "source": [
    "outDir='temp'\n",
    "conn = db.OpsimDatabaseV3('simruns/minion_1012_sqlite.db')\n",
    "bundleList = []\n",
    "sql = 'filter = \"r\" and night < 3653 \\\n",
    "and fieldRA < {} and fieldDec > {} \\\n",
    "and fieldRA > 0 and fieldDec < 0'.format(np.radians(200), np.radians(-50))\n",
    "metric = metrics.PassMetric()\n",
    "slicer = slicers.OneDSlicer(sliceColName='night', binsize=1)\n",
    "dith_stack = stackers.RandomRotDitherPerFilterChangeStacker( degrees=False)\n",
    "bundleList.append(metricBundles.MetricBundle(metric, slicer, sql, stackerList=[dith_stack]))\n",
    "bd = metricBundles.makeBundlesDictFromList(bundleList)\n",
    "mbg = metricBundles.MetricBundleGroup(bd, conn, outDir=outDir, saveEarly= False)\n",
    "mbg.runAll()\n",
    "mbg.plotAll(closefigs=False)\n",
    "conn.close()\n",
    "\n",
    "\n"
   ]
  }
 ],
 "metadata": {
  "kernelspec": {
   "display_name": "lsst",
   "language": "python",
   "name": "lsst"
  },
  "language_info": {
   "codemirror_mode": {
    "name": "ipython",
    "version": 3
   },
   "file_extension": ".py",
   "mimetype": "text/x-python",
   "name": "python",
   "nbconvert_exporter": "python",
   "pygments_lexer": "ipython3",
   "version": "3.6.2"
  }
 },
 "nbformat": 4,
 "nbformat_minor": 2
}
