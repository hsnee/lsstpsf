{
 "cells": [
  {
   "cell_type": "code",
   "execution_count": 42,
   "metadata": {},
   "outputs": [
    {
     "data": {
      "image/png": "[encoded data removed]",
      "text/plain": [
       "<matplotlib.figure.Figure at 0x2b5843e19588>"
      ]
     },
     "metadata": {},
     "output_type": "display_data"
    }
   ],
   "source": [
    "import numpy as np\n",
    "import galsim\n",
    "import matplotlib.pyplot as plt\n",
    "\n",
    "total_trials = 1000\n",
    "n_iters = [10000]\n",
    "n_bins = 40\n",
    "min_ang = -np.pi/2\n",
    "max_ang = np.pi/2\n",
    "\n",
    "ud = galsim.UniformDeviate()\n",
    "\n",
    "histograms = np.zeros((total_trials, n_bins, len(n_iters)))\n",
    "for i_trial in range(total_trials):    \n",
    "    angs = []\n",
    "    current_ang = 0.0\n",
    "    for i in range(max(n_iters)):\n",
    "        if i==0:\n",
    "            angs.append(current_ang)\n",
    "        else:\n",
    "            # add a number from -90 to 90 degrees to the previous number\n",
    "            new_ang = angs[i-1] + np.pi*ud()/2-np.pi/4.\n",
    "            # wrap at +/- 90 degrees\n",
    "            if new_ang < -np.pi: new_ang += np.pi\n",
    "            if new_ang > np.pi: new_ang -= np.pi\n",
    "            angs.append(new_ang)\n",
    "    for i_iter in range(len(n_iters)):\n",
    "        h, b = np.histogram(angs[0:n_iters[i_iter]], bins=n_bins)\n",
    "        histograms[i_trial, :, i_iter] = h\n",
    "\n",
    "x = 0.5*(b[1:] + b[:-1])\n",
    "avg_hist = histograms.sum(axis=0)/total_trials\n",
    "fig = plt.figure()\n",
    "ax = fig.add_subplot(111)\n",
    "for i_iter in range(len(n_iters)):\n",
    "    ax.plot(x, avg_hist[:, i_iter], label='%d steps'%n_iters[i_iter])\n",
    "plt.legend()\n",
    "plt.xlabel(r'$\\theta$ [radians]')\n",
    "plt.show()\n"
   ]
  },
  {
   "cell_type": "code",
   "execution_count": 27,
   "metadata": {},
   "outputs": [],
   "source": [
    "import lsst.sims.maf.stackers as S"
   ]
  },
  {
   "cell_type": "code",
   "execution_count": 33,
   "metadata": {},
   "outputs": [],
   "source": [
    "??S.RandomRotDitherPerFilterChangeStacker"
   ]
  },
  {
   "cell_type": "code",
   "execution_count": 32,
   "metadata": {},
   "outputs": [],
   "source": [
    "??np.random.rand"
   ]
  },
  {
   "cell_type": "code",
   "execution_count": 41,
   "metadata": {},
   "outputs": [
    {
     "data": {
      "text/plain": [
       "(array([ 103.,   99.,  101.,   95.,  111.,   93.,   97.,  108.,  105.,   88.]),\n",
       " array([-89.51302517, -71.58157192, -53.65011867, -35.71866543,\n",
       "        -17.78721218,   0.14424106,  18.07569431,  36.00714756,\n",
       "         53.9386008 ,  71.87005405,  89.80150729]),\n",
       " <a list of 10 Patch objects>)"
      ]
     },
     "execution_count": 41,
     "metadata": {},
     "output_type": "execute_result"
    },
    {
     "data": {
      "image/png": "[encoded data removed]",
      "text/plain": [
       "<matplotlib.figure.Figure at 0x2b5848250278>"
      ]
     },
     "metadata": {},
     "output_type": "display_data"
    }
   ],
   "source": [
    "plt.hist(np.random.rand(1000) * 2.0 * 90 - 90)"
   ]
  },
  {
   "cell_type": "code",
   "execution_count": null,
   "metadata": {},
   "outputs": [],
   "source": []
  }
 ],
 "metadata": {
  "kernelspec": {
   "display_name": "lsst",
   "language": "python",
   "name": "lsst"
  },
  "language_info": {
   "codemirror_mode": {
    "name": "ipython",
    "version": 3
   },
   "file_extension": ".py",
   "mimetype": "text/x-python",
   "name": "python",
   "nbconvert_exporter": "python",
   "pygments_lexer": "ipython3",
   "version": "3.6.3"
  }
 },
 "nbformat": 4,
 "nbformat_minor": 2
}
