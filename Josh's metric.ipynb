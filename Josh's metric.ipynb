{
 "cells": [
  {
   "cell_type": "code",
   "execution_count": null,
   "metadata": {},
   "outputs": [],
   "source": [
    "class uniformKSTest(metrics.BaseMetric):\n",
    "    \"\"\"\n",
    "    Return the KS-test statistic. Values near zero are good, near 1 is bad.\n",
    "    \"\"\"\n",
    "    def __init__(self, paCol = 'rotSkyPos', modVal=180., metricName='uniformKSTest', units='unitless', **kwargs):\n",
    "        self.paCol = paCol\n",
    "        self.modVal = modVal\n",
    "        super(uniformKSTest, self).__init__(col=paCol, metricName=metricName, units=units, **kwargs)\n",
    "    def run(self, dataSlice, slicePoint=None):\n",
    "        angleDist = dataSlice[self.paCol] % self.modVal\n",
    "        ks_D, pVal = stats.kstest(angleDist, 'uniform')\n",
    "        return ks_D"
   ]
  },
  {
   "cell_type": "code",
   "execution_count": null,
   "metadata": {},
   "outputs": [],
   "source": [
    "class KuiperMetric(metrics.BaseMetric):\n",
    "    \"\"\"\n",
    "    Like the KS test, but for periodic things.\n",
    "    \"\"\"\n",
    "    def __init__(self, col='rotSkyPos', cdf=lambda x:x/(2*np.pi), args=(), period=2*np.pi, **kwargs):\n",
    "        self.cdf = cdf\n",
    "        self.args = args\n",
    "        self.period = period\n",
    "        assert self.cdf(0) == 0.0\n",
    "        assert self.cdf(self.period) == 1.0\n",
    "        super(KuiperMetric, self).__init__(col=col, **kwargs)\n",
    "    def run(self, dataSlice, slicePoint=None):\n",
    "        data = np.sort(dataSlice[self.colname] % self.period)\n",
    "        cdfv = self.cdf(data, *self.args)\n",
    "        N = len(data)\n",
    "        D = np.amax(cdfv-np.arange(N)/float(N)) + np.amax((np.arange(N)+1)/float(N)-cdfv)\n",
    "        return D"
   ]
  },
  {
   "cell_type": "code",
   "execution_count": null,
   "metadata": {},
   "outputs": [],
   "source": []
  }
 ],
 "metadata": {
  "kernelspec": {
   "display_name": "lsst",
   "language": "python",
   "name": "lsst"
  }
 },
 "nbformat": 4,
 "nbformat_minor": 2
}
