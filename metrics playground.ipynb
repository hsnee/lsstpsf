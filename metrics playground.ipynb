{
 "cells": [
  {
   "cell_type": "code",
   "execution_count": null,
   "metadata": {},
   "outputs": [],
   "source": [
    "import matplotlib.pyplot as plt\n",
    "%matplotlib inline\n",
    "\n",
    "import lsst.sims.maf.utils as mafUtils\n",
    "import lsst.sims.maf.db as db\n",
    "import lsst.sims.maf.metrics as metrics\n",
    "import lsst.sims.maf.slicers as slicers\n",
    "import lsst.sims.maf.stackers as stackers\n",
    "import lsst.sims.maf.metricBundles as metricBundles\n",
    "import lsst.sims.maf.plots as plots\n",
    "\n"
   ]
  },
  {
   "cell_type": "code",
   "execution_count": null,
   "metadata": {},
   "outputs": [],
   "source": [
    "%pylab inline"
   ]
  },
  {
   "cell_type": "code",
   "execution_count": 4,
   "metadata": {},
   "outputs": [],
   "source": [
    "runName = 'minion_1016'\n",
    "dbfile = '/global/homes/h/husni/lsstpsf/simruns/minion_1012_sqlite.db'\n",
    "opsdb = db.OpsimDatabase(dbfile)"
   ]
  },
  {
   "cell_type": "code",
   "execution_count": 24,
   "metadata": {},
   "outputs": [
    {
     "ename": "Exception",
     "evalue": "Redefining metric __main__.KuiperMetric! (there are >1 metrics with the same name)",
     "output_type": "error",
     "traceback": [
      "\u001b[0;31m---------------------------------------------------------------------------\u001b[0m",
      "\u001b[0;31mException\u001b[0m                                 Traceback (most recent call last)",
      "\u001b[0;32m<ipython-input-24-e9a17d50bf64>\u001b[0m in \u001b[0;36m<module>\u001b[0;34m()\u001b[0m\n\u001b[0;32m----> 1\u001b[0;31m \u001b[0;32mclass\u001b[0m \u001b[0mKuiperMetric\u001b[0m\u001b[0;34m(\u001b[0m\u001b[0mmetrics\u001b[0m\u001b[0;34m.\u001b[0m\u001b[0mBaseMetric\u001b[0m\u001b[0;34m)\u001b[0m\u001b[0;34m:\u001b[0m\u001b[0;34m\u001b[0m\u001b[0m\n\u001b[0m\u001b[1;32m      2\u001b[0m     \u001b[0;32mdef\u001b[0m \u001b[0m__init__\u001b[0m\u001b[0;34m(\u001b[0m\u001b[0mself\u001b[0m\u001b[0;34m,\u001b[0m \u001b[0mcol\u001b[0m\u001b[0;34m=\u001b[0m\u001b[0;32mNone\u001b[0m\u001b[0;34m,\u001b[0m \u001b[0mcdf\u001b[0m\u001b[0;34m=\u001b[0m\u001b[0;32mlambda\u001b[0m \u001b[0mx\u001b[0m\u001b[0;34m:\u001b[0m\u001b[0mx\u001b[0m\u001b[0;34m/\u001b[0m\u001b[0;34m(\u001b[0m\u001b[0;36m2\u001b[0m\u001b[0;34m*\u001b[0m\u001b[0mnp\u001b[0m\u001b[0;34m.\u001b[0m\u001b[0mpi\u001b[0m\u001b[0;34m)\u001b[0m\u001b[0;34m,\u001b[0m \u001b[0margs\u001b[0m\u001b[0;34m=\u001b[0m\u001b[0;34m(\u001b[0m\u001b[0;34m)\u001b[0m\u001b[0;34m,\u001b[0m \u001b[0mperiod\u001b[0m\u001b[0;34m=\u001b[0m\u001b[0;36m2\u001b[0m\u001b[0;34m*\u001b[0m\u001b[0mnp\u001b[0m\u001b[0;34m.\u001b[0m\u001b[0mpi\u001b[0m\u001b[0;34m,\u001b[0m \u001b[0;34m**\u001b[0m\u001b[0mkwargs\u001b[0m\u001b[0;34m)\u001b[0m\u001b[0;34m:\u001b[0m\u001b[0;34m\u001b[0m\u001b[0m\n\u001b[1;32m      3\u001b[0m         \u001b[0mself\u001b[0m\u001b[0;34m.\u001b[0m\u001b[0mcdf\u001b[0m \u001b[0;34m=\u001b[0m \u001b[0mcdf\u001b[0m\u001b[0;34m\u001b[0m\u001b[0m\n\u001b[1;32m      4\u001b[0m         \u001b[0mself\u001b[0m\u001b[0;34m.\u001b[0m\u001b[0margs\u001b[0m \u001b[0;34m=\u001b[0m \u001b[0margs\u001b[0m\u001b[0;34m\u001b[0m\u001b[0m\n\u001b[1;32m      5\u001b[0m         \u001b[0mself\u001b[0m\u001b[0;34m.\u001b[0m\u001b[0mperiod\u001b[0m \u001b[0;34m=\u001b[0m \u001b[0mperiod\u001b[0m\u001b[0;34m\u001b[0m\u001b[0m\n",
      "\u001b[0;32m/global/u2/h/husni/newcontrib/sims_maf/python/lsst/sims/maf/metrics/baseMetric.py\u001b[0m in \u001b[0;36m__init__\u001b[0;34m(cls, name, bases, dict)\u001b[0m\n\u001b[1;32m     36\u001b[0m         \u001b[0mmetricname\u001b[0m \u001b[0;34m=\u001b[0m \u001b[0mmodname\u001b[0m \u001b[0;34m+\u001b[0m \u001b[0mname\u001b[0m\u001b[0;34m\u001b[0m\u001b[0m\n\u001b[1;32m     37\u001b[0m         \u001b[0;32mif\u001b[0m \u001b[0mmetricname\u001b[0m \u001b[0;32min\u001b[0m \u001b[0mcls\u001b[0m\u001b[0;34m.\u001b[0m\u001b[0mregistry\u001b[0m\u001b[0;34m:\u001b[0m\u001b[0;34m\u001b[0m\u001b[0m\n\u001b[0;32m---> 38\u001b[0;31m             \u001b[0;32mraise\u001b[0m \u001b[0mException\u001b[0m\u001b[0;34m(\u001b[0m\u001b[0;34m'Redefining metric %s! (there are >1 metrics with the same name)'\u001b[0m \u001b[0;34m%\u001b[0m \u001b[0;34m(\u001b[0m\u001b[0mmetricname\u001b[0m\u001b[0;34m)\u001b[0m\u001b[0;34m)\u001b[0m\u001b[0;34m\u001b[0m\u001b[0m\n\u001b[0m\u001b[1;32m     39\u001b[0m         \u001b[0;32mif\u001b[0m \u001b[0mmetricname\u001b[0m \u001b[0;32mnot\u001b[0m \u001b[0;32min\u001b[0m \u001b[0;34m[\u001b[0m\u001b[0;34m'BaseMetric'\u001b[0m\u001b[0;34m,\u001b[0m \u001b[0;34m'SimpleScalarMetric'\u001b[0m\u001b[0;34m]\u001b[0m\u001b[0;34m:\u001b[0m\u001b[0;34m\u001b[0m\u001b[0m\n\u001b[1;32m     40\u001b[0m             \u001b[0mcls\u001b[0m\u001b[0;34m.\u001b[0m\u001b[0mregistry\u001b[0m\u001b[0;34m[\u001b[0m\u001b[0mmetricname\u001b[0m\u001b[0;34m]\u001b[0m \u001b[0;34m=\u001b[0m \u001b[0mcls\u001b[0m\u001b[0;34m\u001b[0m\u001b[0m\n",
      "\u001b[0;31mException\u001b[0m: Redefining metric __main__.KuiperMetric! (there are >1 metrics with the same name)"
     ]
    }
   ],
   "source": [
    "class KuiperMetric(metrics.BaseMetric):\n",
    "    def __init__(self, col=None, cdf=lambda x:x/(2*np.pi), args=(), period=2*np.pi, **kwargs):\n",
    "        self.cdf = cdf\n",
    "        self.args = args\n",
    "        self.period = period\n",
    "        assert self.cdf(0) == 0.0\n",
    "        assert self.cdf(self.period) == 1.0\n",
    "        super(KuiperMetric, self).__init__(col=col, **kwargs)\n",
    "    def run(self, dataSlice, slicePoint=None):\n",
    "        lat2 = dataSlice[self.latCol]\n",
    "        lon2 = dataSlice[self.lonCol]\n",
    "        data = np.sort(lat,lon)\n",
    "        cdfv = self.cdf(data, *self.args)\n",
    "        N = len(data)\n",
    "        D = np.amax(cdfv-np.arange(N)/float(N)) + np.amax((np.arange(N)+1)/float(N)-cdfv)\n",
    "        return D"
   ]
  },
  {
   "cell_type": "code",
   "execution_count": 18,
   "metadata": {},
   "outputs": [
    {
     "name": "stdout",
     "output_type": "stream",
     "text": [
      "Healpix slicer using NSIDE=64, approximate resolution 54.967783 arcminutes\n"
     ]
    }
   ],
   "source": [
    "bundleList = []\n",
    "sql = 'filter=\"r\"'\n",
    "metric = KuiperMetric('night')\n",
    "slicer = slicers.HealpixSlicer(nside=64)\n",
    "bundleList.append(metricBundles.MetricBundle(metric, slicer, sql))\n"
   ]
  },
  {
   "cell_type": "code",
   "execution_count": 20,
   "metadata": {},
   "outputs": [],
   "source": [
    "outDir = 'temp'\n",
    "conn = db.Database('simruns/minion_1012_sqlite.db')\n",
    "resultsDb = db.ResultsDb(outDir=outDir)\n"
   ]
  },
  {
   "cell_type": "code",
   "execution_count": 21,
   "metadata": {},
   "outputs": [
    {
     "name": "stdout",
     "output_type": "stream",
     "text": [
      "Querying database None with constraint filter=\"r\" for columns ['night', 'fieldRA', 'fieldDec']\n",
      "Plotting figures with \"filter=\"r\"\" constraint now.\n",
      "Plotting complete.\n"
     ]
    },
    {
     "name": "stderr",
     "output_type": "stream",
     "text": [
      "/global/u2/h/husni/newcontrib/sims_maf/python/lsst/sims/maf/metricBundles/metricBundleGroup.py:269: UserWarning: One or more of the columns requested from the database was not available. Skipping constraint filter=\"r\"\n",
      "  ' Skipping constraint %s' % constraint)\n",
      "/global/u2/h/husni/newcontrib/sims_maf/python/lsst/sims/maf/metricBundles/metricBundleGroup.py:273: UserWarning:  This means skipping metrics ['Kuiper night : r : HealpixSlicer']\n",
      "  warnings.warn(' This means skipping metrics %s' % metricsSkipped)\n",
      "/global/u2/h/husni/newcontrib/sims_maf/python/lsst/sims/maf/plots/plotHandler.py:534: UserWarning: MetricBundle (opsim_Kuiper_night_r_HEAL) has no attribute \"metricValues\". Either the values have not been calculated or they have been deleted.\n",
      "  warnings.warn(msg)\n"
     ]
    },
    {
     "data": {
      "text/plain": [
       "<matplotlib.figure.Figure at 0x2b9c978cb908>"
      ]
     },
     "metadata": {},
     "output_type": "display_data"
    },
    {
     "data": {
      "text/plain": [
       "<matplotlib.figure.Figure at 0x2b9c9794e6a0>"
      ]
     },
     "metadata": {},
     "output_type": "display_data"
    },
    {
     "data": {
      "text/plain": [
       "<matplotlib.figure.Figure at 0x2b9c979639b0>"
      ]
     },
     "metadata": {},
     "output_type": "display_data"
    }
   ],
   "source": [
    "bd = metricBundles.makeBundlesDictFromList(bundleList)\n",
    "mbg = metricBundles.MetricBundleGroup(bd, conn, outDir=outDir)\n",
    "mbg.runAll()\n",
    "mbg.plotAll(closefigs=False)\n",
    "conn.close()"
   ]
  },
  {
   "cell_type": "code",
   "execution_count": 23,
   "metadata": {},
   "outputs": [
    {
     "data": {
      "text/plain": [
       "{'Cloud': ['cloudID', 'c_date', 'cloud'],\n",
       " 'Config': ['configID',\n",
       "  'moduleName',\n",
       "  'paramIndex',\n",
       "  'paramName',\n",
       "  'paramValue',\n",
       "  'comment',\n",
       "  'Session_sessionID',\n",
       "  'nonPropID'],\n",
       " 'Config_File': ['config_fileID', 'filename', 'data', 'Session_sessionID'],\n",
       " 'Field': ['fieldID',\n",
       "  'fieldFov',\n",
       "  'fieldRA',\n",
       "  'fieldDec',\n",
       "  'fieldGL',\n",
       "  'fieldGB',\n",
       "  'fieldEL',\n",
       "  'fieldEB'],\n",
       " 'Log': ['logID', 'log_name', 'log_value', 'Session_sessionID'],\n",
       " 'MissedHistory': ['missedHistID',\n",
       "  'Session_sessionID',\n",
       "  'filter',\n",
       "  'expDate',\n",
       "  'expMJD',\n",
       "  'night',\n",
       "  'lst',\n",
       "  'Field_fieldID'],\n",
       " 'ObsHistory': ['obsHistID',\n",
       "  'Session_sessionID',\n",
       "  'filter',\n",
       "  'expDate',\n",
       "  'expMJD',\n",
       "  'night',\n",
       "  'visitTime',\n",
       "  'visitExpTime',\n",
       "  'finRank',\n",
       "  'finSeeing',\n",
       "  'transparency',\n",
       "  'airmass',\n",
       "  'vSkyBright',\n",
       "  'filtSkyBrightness',\n",
       "  'rotSkyPos',\n",
       "  'lst',\n",
       "  'altitude',\n",
       "  'azimuth',\n",
       "  'dist2Moon',\n",
       "  'solarElong',\n",
       "  'moonRA',\n",
       "  'moonDec',\n",
       "  'moonAlt',\n",
       "  'moonAZ',\n",
       "  'moonPhase',\n",
       "  'sunAlt',\n",
       "  'sunAZ',\n",
       "  'phaseAngle',\n",
       "  'rScatter',\n",
       "  'mieScatter',\n",
       "  'moonIllum',\n",
       "  'moonBright',\n",
       "  'darkBright',\n",
       "  'rawSeeing',\n",
       "  'wind',\n",
       "  'humidity',\n",
       "  'fiveSigmaDepth',\n",
       "  'ditheredRA',\n",
       "  'ditheredDec',\n",
       "  'Field_fieldID'],\n",
       " 'ObsHistory_Proposal': ['obsHistory_propID',\n",
       "  'Proposal_propID',\n",
       "  'propRank',\n",
       "  'ObsHistory_obsHistID',\n",
       "  'ObsHistory_Session_sessionID'],\n",
       " 'Proposal': ['propID',\n",
       "  'propConf',\n",
       "  'propName',\n",
       "  'objectID',\n",
       "  'objectHost',\n",
       "  'Session_sessionID'],\n",
       " 'Proposal_Field': ['proposal_field_id',\n",
       "  'Session_sessionID',\n",
       "  'Proposal_propID',\n",
       "  'Field_fieldID'],\n",
       " 'Seeing': ['seeingID', 's_date', 'seeing'],\n",
       " 'SeqHistory': ['sequenceID',\n",
       "  'startDate',\n",
       "  'expDate',\n",
       "  'seqnNum',\n",
       "  'completion',\n",
       "  'reqEvents',\n",
       "  'actualEvents',\n",
       "  'endStatus',\n",
       "  'parent_sequenceID',\n",
       "  'Field_fieldID',\n",
       "  'Session_sessionID',\n",
       "  'Proposal_propID'],\n",
       " 'SeqHistory_MissedHistory': ['seqhistory_missedHistID',\n",
       "  'SeqHistory_sequenceID',\n",
       "  'MissedHistory_missedHistID',\n",
       "  'MissedHistory_Session_sessionID'],\n",
       " 'SeqHistory_ObsHistory': ['seqhistory_obsHistID',\n",
       "  'SeqHistory_sequenceID',\n",
       "  'ObsHistory_obsHistID',\n",
       "  'ObsHistory_Session_sessionID'],\n",
       " 'Session': ['sessionID',\n",
       "  'sessionUser',\n",
       "  'sessionHost',\n",
       "  'sessionDate',\n",
       "  'version',\n",
       "  'runComment'],\n",
       " 'SlewActivities': ['slewActivityID',\n",
       "  'activity',\n",
       "  'actDelay',\n",
       "  'inCriticalPath',\n",
       "  'SlewHistory_slewID'],\n",
       " 'SlewHistory': ['slewID',\n",
       "  'slewCount',\n",
       "  'startDate',\n",
       "  'endDate',\n",
       "  'slewTime',\n",
       "  'slewDist',\n",
       "  'ObsHistory_obsHistID',\n",
       "  'ObsHistory_Session_sessionID'],\n",
       " 'SlewMaxSpeeds': ['slewMaxSpeedID',\n",
       "  'domAltSpd',\n",
       "  'domAzSpd',\n",
       "  'telAltSpd',\n",
       "  'telAzSpd',\n",
       "  'rotSpd',\n",
       "  'SlewHistory_slewID'],\n",
       " 'SlewState': ['slewIniStatID',\n",
       "  'slewStateDate',\n",
       "  'tra',\n",
       "  'tdec',\n",
       "  'tracking',\n",
       "  'alt',\n",
       "  'az',\n",
       "  'pa',\n",
       "  'domAlt',\n",
       "  'domAz',\n",
       "  'telAlt',\n",
       "  'telAz',\n",
       "  'rotTelPos',\n",
       "  'filter',\n",
       "  'state',\n",
       "  'SlewHistory_slewID'],\n",
       " 'Summary': ['obsHistID',\n",
       "  'sessionID',\n",
       "  'propID',\n",
       "  'fieldID',\n",
       "  'fieldRA',\n",
       "  'fieldDec',\n",
       "  'filter',\n",
       "  'expDate',\n",
       "  'expMJD',\n",
       "  'night',\n",
       "  'visitTime',\n",
       "  'visitExpTime',\n",
       "  'finRank',\n",
       "  'FWHMeff',\n",
       "  'FWHMgeom',\n",
       "  'transparency',\n",
       "  'airmass',\n",
       "  'vSkyBright',\n",
       "  'filtSkyBrightness',\n",
       "  'rotSkyPos',\n",
       "  'rotTelPos',\n",
       "  'lst',\n",
       "  'altitude',\n",
       "  'azimuth',\n",
       "  'dist2Moon',\n",
       "  'solarElong',\n",
       "  'moonRA',\n",
       "  'moonDec',\n",
       "  'moonAlt',\n",
       "  'moonAZ',\n",
       "  'moonPhase',\n",
       "  'sunAlt',\n",
       "  'sunAz',\n",
       "  'phaseAngle',\n",
       "  'rScatter',\n",
       "  'mieScatter',\n",
       "  'moonIllum',\n",
       "  'moonBright',\n",
       "  'darkBright',\n",
       "  'rawSeeing',\n",
       "  'wind',\n",
       "  'humidity',\n",
       "  'slewDist',\n",
       "  'slewTime',\n",
       "  'fiveSigmaDepth',\n",
       "  'ditheredRA',\n",
       "  'ditheredDec'],\n",
       " 'TimeHistory': ['timeHistID',\n",
       "  'date',\n",
       "  'mjd',\n",
       "  'night',\n",
       "  'event',\n",
       "  'Session_sessionID']}"
      ]
     },
     "execution_count": 23,
     "metadata": {},
     "output_type": "execute_result"
    }
   ],
   "source": [
    "conn.get_column_names()"
   ]
  },
  {
   "cell_type": "code",
   "execution_count": null,
   "metadata": {},
   "outputs": [],
   "source": []
  }
 ],
 "metadata": {
  "kernelspec": {
   "display_name": "lsst",
   "language": "python",
   "name": "lsst"
  },
  "language_info": {
   "codemirror_mode": {
    "name": "ipython",
    "version": 3
   },
   "file_extension": ".py",
   "mimetype": "text/x-python",
   "name": "python",
   "nbconvert_exporter": "python",
   "pygments_lexer": "ipython3",
   "version": "3.6.3"
  }
 },
 "nbformat": 4,
 "nbformat_minor": 2
}
