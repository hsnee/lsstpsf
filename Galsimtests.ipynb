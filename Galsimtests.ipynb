{
 "cells": [
  {
   "cell_type": "markdown",
   "metadata": {},
   "source": [
    "The following cell is just me checking whether I have everything linked to each other correctly.\n"
   ]
  },
  {
   "cell_type": "code",
   "execution_count": 1,
   "metadata": {
    "collapsed": false
   },
   "outputs": [],
   "source": [
    "import sys\n",
    "if sys.version=='2.7.9 (v2.7.9:648dcafa7e5f, Dec 10 2014, 10:10:46) \\n[GCC 4.2.1 (Apple Inc. build 5666) (dot 3)]':\n",
    "    pass\n",
    "else:\n",
    "    raise Warning('Python version may not be compatible with Galsim')"
   ]
  },
  {
   "cell_type": "code",
   "execution_count": 2,
   "metadata": {
    "collapsed": false,
    "scrolled": true
   },
   "outputs": [
    {
     "name": "stderr",
     "output_type": "stream",
     "text": [
      "/Library/Frameworks/Python.framework/Versions/2.7/lib/python2.7/site-packages/matplotlib/font_manager.py:280: UserWarning: Matplotlib is building the font cache using fc-list. This may take a moment.\n",
      "  'Matplotlib is building the font cache using fc-list. '\n"
     ]
    },
    {
     "name": "stdout",
     "output_type": "stream",
     "text": [
      "Populating the interactive namespace from numpy and matplotlib\n"
     ]
    }
   ],
   "source": [
    "sys.path=[]\n",
    "for i in ['/Users/myhome/Library/Python/2.7/lib/python/site-packages/','/usr/local/lib/','/usr/local/lib/wxPython-3.0.0.0/lib/python2.7/site-packages', '/usr/local/lib/wxPython-3.0.0.0/lib/python2.7/site-packages/wx-3.0-osx_cocoa', '/Library/Frameworks/Python.framework/Versions/2.7/lib/python27.zip', '/Library/Frameworks/Python.framework/Versions/2.7/lib/python2.7', '/Library/Frameworks/Python.framework/Versions/2.7/lib/python2.7/plat-darwin', '/Library/Frameworks/Python.framework/Versions/2.7/lib/python2.7/plat-mac', '/Library/Frameworks/Python.framework/Versions/2.7/lib/python2.7/plat-mac/lib-scriptpackages', '/Library/Frameworks/Python.framework/Versions/2.7/lib/python2.7/lib-tk', '/Library/Frameworks/Python.framework/Versions/2.7/lib/python2.7/lib-old', '/Library/Frameworks/Python.framework/Versions/2.7/lib/python2.7/lib-dynload', '/Library/Frameworks/Python.framework/Versions/2.7/lib/python2.7/site-packages', '/Library/Frameworks/Python.framework/Versions/2.7/lib/python2.7/site-packages/FontTools', '/Library/Frameworks/Python.framework/Versions/2.7/lib/python2.7/site-packages/VPython-6.11-py2.7-macosx-10.6-intel.egg', '/usr/local/lib/wxPython-3.0.0.0/lib/python2.7', '/Library/Python/2.7/site-packages', '/System/Library/Frameworks/Python.framework/Versions/2.7/Extras/lib/python', '/System/Library/Frameworks/Python.framework/Versions/2.7/Extras/lib/python/PyObjC']:\n",
    "    sys.path.append(i)\n",
    "import galsim, os, math\n",
    "from astropy.io import fits\n",
    "import pandas as pd\n",
    "%pylab inline\n",
    "import seaborn as sns; sns.set_style('darkgrid')\n",
    "import pyccl as ccl"
   ]
  },
  {
   "cell_type": "markdown",
   "metadata": {},
   "source": [
    "The function simple_galsim (should probably find a better name eventually) takes most of the parameters as arguments. The default settings is a shear of $g_1=0.1$, $g_2=0.2$, $SNR = 100$, galaxy radius $= 2.7$, flux of $10^5$ photons.\n",
    "\n",
    "The code creates a galaxy with an exponential profile (or a Gaussian or uses a real galaxy, depending on whether those arguments are set to True). It shears is with g1 and g2, then convolves it with a gaussian PSF. It then adds Gaussian noise with a certain SNR and a certain standard deviation. It finally calculates the moments, the shears, and saves the image of the galaxy.\n"
   ]
  },
  {
   "cell_type": "code",
   "execution_count": 3,
   "metadata": {
    "code_folding": [],
    "collapsed": false
   },
   "outputs": [],
   "source": [
    "def simple_galsim(exponential_galaxy=False,param=False,cosmos=False,directory='./', im_size=64,real_galaxy=False, gaussian_galaxy=False, gal_sigma=2,gal_r0=2.7, pixel_scale=0.2,psf_sigma=1,gal_flux=1.e5, snr=100, num=10, **kwargs):\n",
    "    if type(directory)==str:\n",
    "        pass\n",
    "    else:\n",
    "        raise TypeError('Directory must be a string.')\n",
    "    if directory[-1]=='/':\n",
    "        pass\n",
    "    else:\n",
    "        directory = directory+'/'\n",
    "    real_gal,param_gal,wrong_result_shear, wrong_psf_im, psf_im, noise, image, result_moments, result_shear = [[0 for _ in range(num)] for _ in range(9)]\n",
    "    noise_array = np.ones(num)*np.random.rand(num)*2\n",
    "    for i in range(num):\n",
    "        noise[i] = 30.*noise_array[i]\n",
    "    \n",
    "    # Define the galaxy profile\n",
    "    im = galsim.Image(im_size, im_size)\n",
    "\n",
    "\n",
    "    if gaussian_galaxy==True:\n",
    "        gal = galsim.Gaussian(flux=gal_flux, sigma=gal_sigma)\n",
    "        gal_im = gal.drawImage(scale=pixel_scale)\n",
    "\n",
    "    elif real_galaxy==True:\n",
    "        gal = galsim.RealGalaxy(**kwargs)\n",
    "        gal_im = gal.drawImage(scale=pixel_scale)\n",
    "    elif exponential_galaxy==True: \n",
    "        gal = galsim.Exponential(flux=gal_flux,scale_radius=gal_r0)\n",
    "        gal = gal.shear(g1=np.random.rand()/50 + 0.1, g2=np.random.rand()/50+0.1)\n",
    "        gal_im = gal.drawImage(scale=pixel_scale)\n",
    "    elif cosmos==True:\n",
    "        cosmos_idx = np.arange(num)\n",
    "        cosmos_cat = galsim.COSMOSCatalog()\n",
    "        real_gal_list = cosmos_cat.makeGalaxy(cosmos_idx, gal_type='real',noise_pad_size=im_size*pixel_scale)\n",
    "        param_gal_list = cosmos_cat.makeGalaxy(cosmos_idx, gal_type='parametric', chromatic=False)\n",
    "        for i in range(len(cosmos_idx)):\n",
    "            real_gal_list[i] = real_gal_list[i].drawImage(im,scale=pixel_scale)\n",
    "            param_gal_list[i] = param_gal_list[i].drawImage(im,scale=pixel_scale)\n",
    "    else:\n",
    "        raise Error('type of galaxy not specified.')\n",
    "        \n",
    "    # Define the PSF profile\n",
    "    psf_variations = np.random.uniform(0.95,1.05, num)\n",
    "    wrong_psf_variations = np.random.uniform(0.9,1.1,num)\n",
    "    for i in range(len(psf_variations)):\n",
    "        psf = galsim.Gaussian(flux=1., sigma=psf_sigma*psf_variations[i]) # PSF flux should always = 1\n",
    "        psf_im[i] = psf.drawImage(scale=pixel_scale)\n",
    "        psf2 = galsim.Gaussian(flux=1.,sigma=psf_sigma*wrong_psf_variations[i])\n",
    "        wrong_psf_im[i] = psf2.drawImage(scale=pixel_scale)\n",
    "   \n",
    "    # Final profile is the convolution of these\n",
    "    if cosmos==True:\n",
    "        for i in cosmos_idx:\n",
    "            if param==True:\n",
    "                final[i] = galsim.Convolve([param_gal_list[i], psf_im[i]])\n",
    "            else:\n",
    "                final[i] = galsim.Convolve([real_gal_list[i], psf_im[i]])\n",
    "            image[i] = final[i].drawImage(scale=pixel_scale)\n",
    "        # Draw the image with a particular pixel scale, given in arcsec/pixel.\n",
    "    else:\n",
    "        for i in range(num):\n",
    "            image[i] = final.drawImage(scale=pixel_scale)\n",
    "\n",
    "    # Add Gaussian noise to the image with specified sigma\n",
    "    for i in range(num):\n",
    "        image[i].addNoiseSNR(galsim.GaussianNoise(sigma=noise[i]), snr)\n",
    "    # Write the image to a file\n",
    "    if os.path.exists(directory)==True:\n",
    "        pass\n",
    "    else:\n",
    "        os.mkdir(directory)\n",
    "    for i in range(num):\n",
    "        file_name = directory+'test'+str(i)+'.fits'\n",
    "        image[i].write(file_name)\n",
    "    \n",
    "    for i in range(num):\n",
    "        result_moments[i] = image[i].FindAdaptiveMom(strict=False)\n",
    "        result_shear[i] = galsim.hsm.EstimateShear(image[i],psf_im[i],strict=False)\n",
    "        wrong_result_shear[i] = galsim.hsm.EstimateShear(image[i],wrong_psf_im[i], strict=False)\n",
    "    return result_moments, result_shear,wrong_result_shear,num"
   ]
  },
  {
   "cell_type": "markdown",
   "metadata": {},
   "source": [
    "So, using the function above to create 100 galaxies:"
   ]
  },
  {
   "cell_type": "code",
   "execution_count": 7,
   "metadata": {
    "collapsed": false
   },
   "outputs": [
    {
     "ename": "NameError",
     "evalue": "global name 'final' is not defined",
     "output_type": "error",
     "traceback": [
      "\u001b[0;31m---------------------------------------------------------------------------\u001b[0m",
      "\u001b[0;31mNameError\u001b[0m                                 Traceback (most recent call last)",
      "\u001b[0;32m<ipython-input-7-29a2527e0109>\u001b[0m in \u001b[0;36m<module>\u001b[0;34m()\u001b[0m\n\u001b[0;32m----> 1\u001b[0;31m \u001b[0mmoms\u001b[0m\u001b[0;34m,\u001b[0m\u001b[0mshears\u001b[0m\u001b[0;34m,\u001b[0m\u001b[0mwrong_shears\u001b[0m\u001b[0;34m,\u001b[0m\u001b[0mnum\u001b[0m \u001b[0;34m=\u001b[0m \u001b[0msimple_galsim\u001b[0m\u001b[0;34m(\u001b[0m\u001b[0mexponential_galaxy\u001b[0m\u001b[0;34m=\u001b[0m\u001b[0mTrue\u001b[0m\u001b[0;34m,\u001b[0m\u001b[0mdirectory\u001b[0m\u001b[0;34m=\u001b[0m\u001b[0;34m'new/'\u001b[0m\u001b[0;34m,\u001b[0m\u001b[0msnr\u001b[0m\u001b[0;34m=\u001b[0m\u001b[0;36m100\u001b[0m\u001b[0;34m,\u001b[0m\u001b[0mnum\u001b[0m\u001b[0;34m=\u001b[0m\u001b[0;36m20\u001b[0m\u001b[0;34m,\u001b[0m\u001b[0mgal_r0\u001b[0m\u001b[0;34m=\u001b[0m\u001b[0;36m0.5\u001b[0m\u001b[0;34m)\u001b[0m\u001b[0;34m\u001b[0m\u001b[0m\n\u001b[0m",
      "\u001b[0;32m<ipython-input-3-6f25e805ae52>\u001b[0m in \u001b[0;36msimple_galsim\u001b[0;34m(exponential_galaxy, param, cosmos, directory, im_size, real_galaxy, gaussian_galaxy, gal_sigma, gal_r0, pixel_scale, psf_sigma, gal_flux, snr, num, **kwargs)\u001b[0m\n\u001b[1;32m     59\u001b[0m     \u001b[0;32melse\u001b[0m\u001b[0;34m:\u001b[0m\u001b[0;34m\u001b[0m\u001b[0m\n\u001b[1;32m     60\u001b[0m         \u001b[0;32mfor\u001b[0m \u001b[0mi\u001b[0m \u001b[0;32min\u001b[0m \u001b[0mrange\u001b[0m\u001b[0;34m(\u001b[0m\u001b[0mnum\u001b[0m\u001b[0;34m)\u001b[0m\u001b[0;34m:\u001b[0m\u001b[0;34m\u001b[0m\u001b[0m\n\u001b[0;32m---> 61\u001b[0;31m             \u001b[0mimage\u001b[0m\u001b[0;34m[\u001b[0m\u001b[0mi\u001b[0m\u001b[0;34m]\u001b[0m \u001b[0;34m=\u001b[0m \u001b[0mfinal\u001b[0m\u001b[0;34m.\u001b[0m\u001b[0mdrawImage\u001b[0m\u001b[0;34m(\u001b[0m\u001b[0mscale\u001b[0m\u001b[0;34m=\u001b[0m\u001b[0mpixel_scale\u001b[0m\u001b[0;34m)\u001b[0m\u001b[0;34m\u001b[0m\u001b[0m\n\u001b[0m\u001b[1;32m     62\u001b[0m \u001b[0;34m\u001b[0m\u001b[0m\n\u001b[1;32m     63\u001b[0m     \u001b[0;31m# Add Gaussian noise to the image with specified sigma\u001b[0m\u001b[0;34m\u001b[0m\u001b[0;34m\u001b[0m\u001b[0m\n",
      "\u001b[0;31mNameError\u001b[0m: global name 'final' is not defined"
     ]
    }
   ],
   "source": [
    "moms,shears,wrong_shears,num = simple_galsim(exponential_galaxy=True,directory='new/',snr=100,num=20,gal_r0=0.5)"
   ]
  },
  {
   "cell_type": "markdown",
   "metadata": {},
   "source": [
    "We can get e.g. the shears from all the galaxies and make a 2-d histogram out of them. To test the sensitivity of the corrections to the wrong PSF, the function will return some wrong shears, where the psf used for the correction is wrong by ±10%. I will also extract those from the results."
   ]
  },
  {
   "cell_type": "code",
   "execution_count": null,
   "metadata": {
    "collapsed": false
   },
   "outputs": [],
   "source": [
    "e1 = np.ones(num)\n",
    "e2 = np.ones(num)\n",
    "wrong_e1 = np.ones(num)\n",
    "wrong_e2 = np.ones(num)\n",
    "for i in range(num):\n",
    "    e1[i] = shears[i].corrected_e1\n",
    "    e2[i] = shears[i].corrected_e2\n",
    "    wrong_e1[i] = wrong_shears[i].corrected_e1\n",
    "    wrong_e2[i] = wrong_shears[i].corrected_e2"
   ]
  },
  {
   "cell_type": "code",
   "execution_count": null,
   "metadata": {
    "collapsed": false
   },
   "outputs": [],
   "source": [
    "for i in range(len(wrong_shears)):\n",
    "    if ((wrong_shears[i].error_message=='')&(shears[i].error_message=='')):\n",
    "        pass\n",
    "    else:\n",
    "        print i,wrong_shears[i].error_message\n",
    "        wrong_shears = np.delete(wrong_shears,i)\n",
    "        shears = np.delete(shears,i)\n",
    "        moms = np.delete(moms,i)\n",
    "        num = num-1"
   ]
  },
  {
   "cell_type": "markdown",
   "metadata": {},
   "source": [
    "First, a plot of the corrected shears"
   ]
  },
  {
   "cell_type": "code",
   "execution_count": null,
   "metadata": {
    "collapsed": false
   },
   "outputs": [],
   "source": [
    "sns.jointplot(x=e1, y=e2, kind=\"hex\", color=\"k\")\n"
   ]
  },
  {
   "cell_type": "markdown",
   "metadata": {},
   "source": [
    "Now, the corrected shears from the wrong psf models:"
   ]
  },
  {
   "cell_type": "code",
   "execution_count": null,
   "metadata": {
    "collapsed": false
   },
   "outputs": [],
   "source": [
    "print wrong_e2"
   ]
  },
  {
   "cell_type": "code",
   "execution_count": null,
   "metadata": {
    "collapsed": false,
    "scrolled": false
   },
   "outputs": [],
   "source": [
    "idx = np.where(np.logical_and(wrong_e1>-1,wrong_e2>-1))\n",
    "sns.jointplot(x=wrong_e1[idx], y=wrong_e2[idx], kind=\"hex\", color=\"k\")\n"
   ]
  },
  {
   "cell_type": "markdown",
   "metadata": {},
   "source": [
    "and a plot of the different between the two:"
   ]
  },
  {
   "cell_type": "code",
   "execution_count": null,
   "metadata": {
    "collapsed": false
   },
   "outputs": [],
   "source": [
    "e1_dif = e1-wrong_e1\n",
    "e2_dif = e2-wrong_e2\n",
    "sns.jointplot(x=e1_dif, y=e2_dif, kind=\"hex\", color=\"k\")"
   ]
  },
  {
   "cell_type": "markdown",
   "metadata": {},
   "source": [
    "We can also show the images of the galaxies using:"
   ]
  },
  {
   "cell_type": "code",
   "execution_count": null,
   "metadata": {
    "collapsed": false
   },
   "outputs": [],
   "source": [
    "def plot_gal(num):\n",
    "    num = str(num)\n",
    "    fits_im = fits.open('new/test'+num+'.fits')\n",
    "    plt.figure()\n",
    "    plt.imshow(fits_im[0].data,cmap='viridis')\n",
    "    plt.colorbar()\n",
    "    plt.xlabel(r'$\\times 0.2$ arcsec')\n",
    "    plt.ylabel(r'$\\times 0.2$ arcsec')\n",
    "plot_gal(1);plot_gal(7);plot_gal(5)"
   ]
  },
  {
   "cell_type": "markdown",
   "metadata": {},
   "source": [
    "and get some statistics such as the standard deviation:"
   ]
  },
  {
   "cell_type": "code",
   "execution_count": null,
   "metadata": {
    "collapsed": false
   },
   "outputs": [],
   "source": [
    "stds = np.ones(num)\n",
    "for i in range(num):\n",
    "    stds[i] = moms[i].moments_sigma\n",
    "plt.hist(stds,bins = 20)\n",
    "plt.xlabel(r'$\\sigma$')"
   ]
  },
  {
   "cell_type": "markdown",
   "metadata": {},
   "source": [
    "and the 4th radial moment $\\rho_4$"
   ]
  },
  {
   "cell_type": "code",
   "execution_count": null,
   "metadata": {
    "collapsed": false,
    "scrolled": false
   },
   "outputs": [],
   "source": [
    "rho4s = np.ones(num)\n",
    "for i in range(num):\n",
    "    rho4s[i] = moms[i].moments_rho4\n",
    "plt.hist(rho4s,bins = 20)\n",
    "plt.xlabel(r'$\\rho_4$')"
   ]
  },
  {
   "cell_type": "code",
   "execution_count": 4,
   "metadata": {
    "collapsed": false
   },
   "outputs": [],
   "source": [
    "p = ccl.Parameters(Omega_c=0.27, Omega_b=0.045, h=0.67, A_s=2.1e-9, n_s=0.96)\n",
    "cosmo = ccl.Cosmology(p, transfer_function='boltzmann')\n"
   ]
  },
  {
   "cell_type": "code",
   "execution_count": 5,
   "metadata": {
    "collapsed": false,
    "scrolled": true
   },
   "outputs": [
    {
     "data": {
      "text/plain": [
       "<matplotlib.text.Text at 0x10d805910>"
      ]
     },
     "execution_count": 5,
     "metadata": {},
     "output_type": "execute_result"
    },
    {
     "data": {
      "image/png": "[encoded data removed]",
      "text/plain": [
       "<matplotlib.figure.Figure at 0x104265950>"
      ]
     },
     "metadata": {},
     "output_type": "display_data"
    }
   ],
   "source": [
    "k = np.logspace(-4., 1., 100) # Wavenumber\n",
    "a = 1.\n",
    "pk_nl = ccl.nonlin_matter_power(cosmo, a, k)\n",
    "plt.plot(k, pk_nl, 'r-')\n",
    "plt.xscale('log')\n",
    "plt.yscale('log')\n",
    "plt.xlabel('k')\n",
    "plt.ylabel(r'non-linear matter power spectrum $Mpc^{-3}$')"
   ]
  },
  {
   "cell_type": "code",
   "execution_count": 6,
   "metadata": {
    "collapsed": false
   },
   "outputs": [
    {
     "data": {
      "text/plain": [
       "<matplotlib.text.Text at 0x10bf504d0>"
      ]
     },
     "execution_count": 6,
     "metadata": {},
     "output_type": "execute_result"
    },
    {
     "data": {
      "image/png": "[encoded data removed]",
      "text/plain": [
       "<matplotlib.figure.Figure at 0x10bee0a90>"
      ]
     },
     "metadata": {},
     "output_type": "display_data"
    }
   ],
   "source": [
    "z = np.linspace(0., 3., 200)\n",
    "i_lim = 26. # Limiting i-band magnitude\n",
    "z0 = 0.0417*i_lim - 0.744\n",
    "\n",
    "Ngal = 46. * 100.31 * (i_lim - 25.) # Normalisation, galaxies/arcmin^2\n",
    "pz = 1./(2.*z0) * (z / z0)**2. * np.exp(-z/z0) # Redshift distribution, p(z)\n",
    "dNdz = Ngal * pz # Number density distribution\n",
    "\n",
    "lens1 = ccl.ClTracerLensing(cosmo, False, z, dNdz)\n",
    "lens2 = ccl.ClTracerLensing(cosmo, False, z, dNdz)\n",
    "ell = np.arange(2, 100)\n",
    "cls = ccl.angular_cl(cosmo, lens1, lens2, ell)\n",
    "plt.plot(ell, cls)\n",
    "plt.title('angular clustering power auto spectrum')"
   ]
  },
  {
   "cell_type": "code",
   "execution_count": 5,
   "metadata": {
    "collapsed": false,
    "run_control": {
     "marked": false
    }
   },
   "outputs": [
    {
     "data": {
      "text/plain": [
       "[<matplotlib.lines.Line2D at 0x10d16b9d0>]"
      ]
     },
     "execution_count": 5,
     "metadata": {},
     "output_type": "execute_result"
    },
    {
     "data": {
      "image/png": "[encoded data removed]",
      "text/plain": [
       "<matplotlib.figure.Figure at 0x10c2ee2d0>"
      ]
     },
     "metadata": {},
     "output_type": "display_data"
    }
   ],
   "source": [
    "p = ccl.Parameters(Omega_c=0.27, Omega_b=0.045, h=0.67, A_s=2.1e-9, n_s=0.96)\n",
    "cosmo = ccl.Cosmology(p, transfer_function='boltzmann')\n",
    "z = np.linspace(0., 3., 200)\n",
    "i_lim = 26. # Limiting i-band magnitude\n",
    "z0 = 0.0417*i_lim - 0.744\n",
    "\n",
    "Ngal = 46. * 100.31 * (i_lim - 25.) # Normalisation, galaxies/arcmin^2\n",
    "pz = 1./(2.*z0) * (z / z0)**2. * np.exp(-z/z0) # Redshift distribution, p(z)\n",
    "dNdz = Ngal * pz # Number density distribution\n",
    "\n",
    "tracer1 = ccl.ClTracer(cosmo,tracer_type='lensing',n=[z,dNdz])\n",
    "tracer2 = ccl.ClTracer(cosmo,tracer_type='lensing',n=dNdz,z=z)\n",
    "\n",
    "ell = np.arange(2, 100)\n",
    "cls = ccl.angular_cl(cosmo, tracer1, tracer2, ell)\n",
    "plt.plot(ell, cls)\n"
   ]
  }
 ],
 "metadata": {
  "anaconda-cloud": {},
  "kernelspec": {
   "display_name": "py2",
   "language": "python",
   "name": "py2"
  },
  "language_info": {
   "codemirror_mode": {
    "name": "ipython",
    "version": 2
   },
   "file_extension": ".py",
   "mimetype": "text/x-python",
   "name": "python",
   "nbconvert_exporter": "python",
   "pygments_lexer": "ipython2",
   "version": "2.7.9"
  }
 },
 "nbformat": 4,
 "nbformat_minor": 1
}
