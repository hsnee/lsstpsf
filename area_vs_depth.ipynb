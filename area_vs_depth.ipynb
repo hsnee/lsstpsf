{
 "cells": [
  {
   "cell_type": "code",
   "execution_count": 3,
   "metadata": {},
   "outputs": [
    {
     "name": "stdout",
     "output_type": "stream",
     "text": [
      "Populating the interactive namespace from numpy and matplotlib\n"
     ]
    }
   ],
   "source": [
    "from __future__ import division\n",
    "%pylab inline\n",
    "from scipy import stats\n",
    "from angles import r2d, r2arcs, d2arcs, arcs2r\n",
    "def arcm2r(theta):\n",
    "    return arcs2r(theta*60)\n",
    "import seaborn as sns;sns.set_style('darkgrid')\n",
    "import lsst.sims.maf.stackers as stackers\n",
    "import treecorr as tr\n",
    "%config InlineBackend.figure_format = 'retina'\n",
    "matplotlib.rcParams['figure.figsize'] = 19,14\n",
    "import lsst.sims.maf.slicers as slicers\n",
    "import lsst.sims.maf.metrics as metrics\n",
    "import lsst.sims.maf.metricBundles as metricBundles\n",
    "import lsst.sims.maf.db as db\n",
    "import lsst.sims.maf.maps as maps\n",
    "from collections import defaultdict\n",
    "import treecorr\n",
    "from itertools import chain\n",
    "sns.set_context('poster',font_scale=1.4)\n",
    "import healpy as hp\n",
    "import pickle\n",
    "import plotly\n",
    "import plotly.plotly as py\n",
    "import plotly.figure_factory as ff\n",
    "import plotly.graph_objs as go"
   ]
  },
  {
   "cell_type": "code",
   "execution_count": 35,
   "metadata": {},
   "outputs": [],
   "source": [
    "def getDepthAndArea(runName, year):\n",
    "    directory = '/global/cscratch1/sd/husni/OpsimRuns/'\n",
    "    nights = year*365 + 1\n",
    "    opsdb = db.OpsimDatabase(directory+runName+'.db')\n",
    "    outDir = 'temp'\n",
    "    resultsDb = db.ResultsDb(outDir=outDir)\n",
    "    nside = 256\n",
    "    myBundles = {}\n",
    "    if runName in list(proposalDict.keys()):\n",
    "        sqlconstraint = 'filter = \"i\" and night < '+str(nights)+' and proposalId = '+str(proposalDict[runName])\n",
    "    else: \n",
    "        sqlconstraint = 'filter = \"i\" and night < '+str(nights)\n",
    "    if runName is 'pontus_2502':\n",
    "        sqlconstraint = 'filter = \"i\" and night < '+str(nights)+' and proposalId != '+str(proposalDict[runName])\n",
    "    metric = metrics.ExgalM5(lsstFilter='i')\n",
    "    dustMap = maps.DustMap(interp=False, nside=nside)\n",
    "    stackerList = []\n",
    "    slicer = slicers.HealpixSlicer(nside=nside, useCache=False)\n",
    "\n",
    "    myBundles['field dither'] = metricBundles.MetricBundle(metric, slicer, constraint=sqlconstraint, \n",
    "                                                           stackerList=stackerList, runName=runName,\n",
    "                                                           metadata='field dither', mapsList=[dustMap])\n",
    "    bgroup = metricBundles.MetricBundleGroup(myBundles, opsdb, outDir=outDir, resultsDb=resultsDb)\n",
    "    bgroup.runAll() \n",
    "    bundle = myBundles['field dither']\n",
    "    \n",
    "    vminDict = {1:np.linspace(24,25.5,16), 3:np.linspace(24.5,26,16), 6:np.linspace(25,26.5,16), 10:np.linspace(25.5,27,16)}\n",
    "    result = []\n",
    "    for vmin in vminDict[year]:\n",
    "        depth_cut = vmin\n",
    "        cond = np.logical_and.reduce((bundle.slicer.getSlicePoints()['ebv']<0.2, bundle.metricValues.mask==False, bundle.metricValues.data>vmin, bundle.metricValues.data<28))\n",
    "        depths = bundle.metricValues[cond]\n",
    "        area = len(bundle.metricValues[cond])*hp.pixelfunc.nside2pixarea(nside=nside, degrees=True)\n",
    "        median_depth = np.median(depths)\n",
    "        width = np.std(depths)\n",
    "        result.append((depth_cut, area, median_depth, width))\n",
    "    return result"
   ]
  },
  {
   "cell_type": "code",
   "execution_count": 61,
   "metadata": {},
   "outputs": [
    {
     "name": "stdout",
     "output_type": "stream",
     "text": [
      "Healpix slicer using NSIDE=256, approximate resolution 13.741946 arcminutes\n",
      "Querying database SummaryAllProps with constraint filter = \"i\" and night < 366 for columns ['fieldRA', 'fiveSigmaDepth', 'fieldDec']\n",
      "Found 58075 visits\n",
      "Running:  ['field dither']\n"
     ]
    },
    {
     "name": "stderr",
     "output_type": "stream",
     "text": [
      "/global/common/software/lsst/cori-haswell-gcc/stack/w.2018.19_sim2.8.0/stack/miniconda3-4.3.21-10a4fa6/Linux64/sims_maf/2.8.0.sims/python/lsst/sims/maf/metricBundles/metricBundleGroup.py:446: RuntimeWarning:\n",
      "\n",
      "invalid value encountered in equal\n",
      "\n"
     ]
    },
    {
     "name": "stdout",
     "output_type": "stream",
     "text": [
      "Completed metric generation.\n",
      "Running reduce methods.\n",
      "Running summary statistics.\n",
      "Completed.\n"
     ]
    },
    {
     "name": "stderr",
     "output_type": "stream",
     "text": [
      "/global/common/software/lsst/common/miniconda/py3-4.3.21-env/lib/python3.6/site-packages/ipykernel/__main__.py:31: RuntimeWarning:\n",
      "\n",
      "invalid value encountered in greater\n",
      "\n",
      "/global/common/software/lsst/common/miniconda/py3-4.3.21-env/lib/python3.6/site-packages/ipykernel/__main__.py:31: RuntimeWarning:\n",
      "\n",
      "invalid value encountered in less\n",
      "\n",
      "/global/homes/h/husni/.local/lib/python3.6/site-packages/numpy/core/fromnumeric.py:688: UserWarning:\n",
      "\n",
      "Warning: 'partition' will ignore the 'mask' of the MaskedArray.\n",
      "\n"
     ]
    },
    {
     "name": "stdout",
     "output_type": "stream",
     "text": [
      "Healpix slicer using NSIDE=256, approximate resolution 13.741946 arcminutes\n",
      "Querying database SummaryAllProps with constraint filter = \"i\" and night < 1096 for columns ['fieldRA', 'fiveSigmaDepth', 'fieldDec']\n",
      "Found 168654 visits\n",
      "Running:  ['field dither']\n",
      "Completed metric generation.\n",
      "Running reduce methods.\n",
      "Running summary statistics.\n",
      "Completed.\n",
      "Healpix slicer using NSIDE=256, approximate resolution 13.741946 arcminutes\n",
      "Querying database SummaryAllProps with constraint filter = \"i\" and night < 2191 for columns ['fieldRA', 'fiveSigmaDepth', 'fieldDec']\n",
      "Found 341493 visits\n",
      "Running:  ['field dither']\n",
      "Completed metric generation.\n",
      "Running reduce methods.\n",
      "Running summary statistics.\n",
      "Completed.\n",
      "Healpix slicer using NSIDE=256, approximate resolution 13.741946 arcminutes\n",
      "Querying database SummaryAllProps with constraint filter = \"i\" and night < 3651 for columns ['fieldRA', 'fiveSigmaDepth', 'fieldDec']\n",
      "Found 567306 visits\n",
      "Running:  ['field dither']\n",
      "Completed metric generation.\n",
      "Running reduce methods.\n",
      "Running summary statistics.\n",
      "Completed.\n"
     ]
    },
    {
     "name": "stderr",
     "output_type": "stream",
     "text": [
      "/global/homes/h/husni/.local/lib/python3.6/site-packages/numpy/core/numeric.py:553: UserWarning:\n",
      "\n",
      "Warning: converting a masked element to nan.\n",
      "\n"
     ]
    }
   ],
   "source": [
    "for year in [1,3,6,10]:\n",
    "    runName = 'altsched_rolling_riswap'\n",
    "    outname =  runName+'_area_depth_y'+str(year)+'.npy'\n",
    "    result = getPositions(runName, year)\n",
    "    np.save('newcutnpys/'+outname, result)"
   ]
  },
  {
   "cell_type": "code",
   "execution_count": 22,
   "metadata": {},
   "outputs": [],
   "source": [
    "proposalDict = {'baseline2018a':3, 'colossus_2664':2, 'colossus_2665':1, 'colossus_2667':1,\n",
    "                'kraken_2026':3, 'kraken_2035':3, 'kraken_2036':3, 'kraken_2042':2, 'kraken_2044':1,\n",
    "                'mothra_2045':1, 'nexus_2097':1, 'pontus_2002':1, 'pontus_2489':3, 'pontus_2502':2,\n",
    "                'mothra_2049':1}"
   ]
  },
  {
   "cell_type": "code",
   "execution_count": 11,
   "metadata": {},
   "outputs": [],
   "source": [
    "a = list(bundle.metricValues[cond])"
   ]
  },
  {
   "cell_type": "code",
   "execution_count": 44,
   "metadata": {},
   "outputs": [
    {
     "data": {
      "text/html": [
       "<iframe id=\"igraph\" scrolling=\"no\" style=\"border:none;\" seamless=\"seamless\" src=\"https://plot.ly/~hsnee/311.embed\" height=\"525px\" width=\"100%\"></iframe>"
      ],
      "text/plain": [
       "<plotly.tools.PlotlyDisplay object>"
      ]
     },
     "execution_count": 44,
     "metadata": {},
     "output_type": "execute_result"
    }
   ],
   "source": [
    "x1,x2,x3,x4,y1,y2,y3,y4,t1,t2,t3,t4,c1,c2,c3,c4,s1,s2,s3,s4 = [[] for _ in range(20)]\n",
    "for i,cut_result in enumerate(np.load('newcutnpys/altsched_riswap_area_depth_y1.npy')[:-5]):\n",
    "    x1.append([cut_result[1]])\n",
    "    y1.append([cut_result[2]])\n",
    "    t1.append(str(cut_result[0]))\n",
    "    c1.append(120+5*i)\n",
    "    s1.append(cut_result[3]*1e2)\n",
    "\n",
    "\n",
    "for i,cut_result in enumerate(np.load('newcutnpys/altsched_riswap_area_depth_y10.npy')[:-5]):\n",
    "    x2.append([cut_result[1]])\n",
    "    y2.append([cut_result[2]])\n",
    "    t2.append(str(cut_result[0]))\n",
    "    c2.append(120-5*i)\n",
    "    s2.append(cut_result[3]*1e2)\n",
    "\n",
    "updatemenus = list([\n",
    "    dict(type=\"buttons\",\n",
    "         active=-1,\n",
    "         buttons=list([\n",
    "            dict(label = 'Year 1',\n",
    "                 method = 'update',\n",
    "                 args = [{'visible': [True, True, False, False]},\n",
    "                         {'title': 'Year 1'}]),\n",
    "            dict(label = 'Year 10',\n",
    "                 method = 'update',\n",
    "                 args = [{'visible': [False, False, True, True]},\n",
    "                         {'title': 'Year 10'}])\n",
    "        ]),\n",
    "    )\n",
    "])\n",
    "\n",
    "\n",
    "data = [\n",
    "        {\n",
    "        'x': x1,\n",
    "        'y': y1,\n",
    "        'mode': 'markers',\n",
    "        'text':t1,\n",
    "        'name':'baseline2018a',\n",
    "        'marker': {\n",
    "            'color': c1,\n",
    "            'size': s1,\n",
    "            'colorscale' : 'viridis'}\n",
    "    }, \n",
    "    \n",
    "        {\n",
    "        'x': x2,\n",
    "        'y': y2,\n",
    "        'mode': 'markers',\n",
    "        'text': t2,\n",
    "        'name':'pontus_2002',\n",
    "        'marker': {\n",
    "            'color': c2,\n",
    "            'size': s2,\n",
    "            'colorscale' : 'Greys'}\n",
    "    }, \n",
    "    \n",
    "]\n",
    "\n",
    "layout = go.Layout(\n",
    "    xaxis=dict(\n",
    "        title='area (degrees)',\n",
    "        gridcolor='rgb(255, 255, 255)',\n",
    "        #type='log',\n",
    "        zerolinewidth=1,\n",
    "    ),\n",
    "    yaxis=dict(\n",
    "        title='median i-band co-added depth',\n",
    "        gridcolor='rgb(255, 255, 255)',\n",
    "        #range=[36.12621671352166, 91.72921793264332],\n",
    "        zerolinewidth=1,\n",
    "    ),\n",
    "    paper_bgcolor='rgb(243, 243, 243)',\n",
    "    plot_bgcolor='rgb(243, 243, 243)',\n",
    "    updatemenus=updatemenus\n",
    ")\n",
    "\n",
    "\n",
    "py.iplot(dict(data=data, layout=layout))"
   ]
  },
  {
   "cell_type": "code",
   "execution_count": 126,
   "metadata": {},
   "outputs": [
    {
     "data": {
      "text/html": [
       "<iframe id=\"igraph\" scrolling=\"no\" style=\"border:none;\" seamless=\"seamless\" src=\"https://plot.ly/~hsnee/98.embed\" height=\"525px\" width=\"100%\"></iframe>"
      ],
      "text/plain": [
       "<plotly.tools.PlotlyDisplay object>"
      ]
     },
     "execution_count": 126,
     "metadata": {},
     "output_type": "execute_result"
    }
   ],
   "source": [
    "x1,x2,x3,x4,y1,y2,y3,y4,t1,t2,t3,t4,c1,c2,c3,c4,s1,s2,s3,s4 = [[] for _ in range(24)]\n",
    "for i,cut_result in enumerate(np.load('baseline2018a_area_depth_y1.npy')):\n",
    "    x1.append([cut_result[1]])\n",
    "    y1.append([cut_result[2]])\n",
    "    t1.append(str(cut_result[0]))\n",
    "    c1.append(120+5*i)\n",
    "    s1.append(cut_result[3]*1e2)\n",
    "\n",
    "\n",
    "for i,cut_result in enumerate(np.load('pontus_2002_area_depth_y1.npy')):\n",
    "    x2.append([cut_result[1]])\n",
    "    y2.append([cut_result[2]])\n",
    "    t2.append(str(cut_result[0]))\n",
    "    c2.append(120-5*i)\n",
    "    s2.append(cut_result[3]*1e2)\n",
    "\n",
    "for i,cut_result in enumerate(np.load('baseline2018a_area_depth_y10.npy')):\n",
    "    x3.append([cut_result[1]])\n",
    "    y3.append([cut_result[2]])\n",
    "    t3.append(str(cut_result[0]))\n",
    "    c3.append(120+5*i)\n",
    "    s3.append(cut_result[3]*1e2)\n",
    "\n",
    "\n",
    "for i,cut_result in enumerate(np.load('pontus_2002_area_depth_y10.npy')):\n",
    "    x4.append([cut_result[1]])\n",
    "    y4.append([cut_result[2]])\n",
    "    t4.append(str(cut_result[0]))\n",
    "    c4.append(120-5*i)\n",
    "    s4.append(cut_result[3]*1e2)\n",
    "\n",
    "updatemenus = list([\n",
    "    dict(type=\"buttons\",\n",
    "         active=-1,\n",
    "         buttons=list([\n",
    "            dict(label = 'Year 1',\n",
    "                 method = 'update',\n",
    "                 args = [{'visible': [True, True, False, False]},\n",
    "                         {'title': 'Year 1'}]),\n",
    "            dict(label = 'Year 10',\n",
    "                 method = 'update',\n",
    "                 args = [{'visible': [False, False, True, True]},\n",
    "                         {'title': 'Year 10'}])\n",
    "        ]),\n",
    "    )\n",
    "])\n",
    "\n",
    "\n",
    "data = [\n",
    "        {\n",
    "        'x': x1,\n",
    "        'y': y1,\n",
    "        'mode': 'markers',\n",
    "        'text':t1,\n",
    "        'name':'baseline2018a',\n",
    "        'marker': {\n",
    "            'color': c1,\n",
    "            'size': s1,\n",
    "            'colorscale' : 'viridis'}\n",
    "    }, \n",
    "    \n",
    "        {\n",
    "        'x': x2,\n",
    "        'y': y2,\n",
    "        'mode': 'markers',\n",
    "        'text': t2,\n",
    "        'name':'pontus_2002',\n",
    "        'marker': {\n",
    "            'color': c2,\n",
    "            'size': s2,\n",
    "            'colorscale' : 'Greys'}\n",
    "    }, \n",
    "        {\n",
    "        'x': x3,\n",
    "        'y': y3,\n",
    "        'mode': 'markers',\n",
    "        'text': t3,\n",
    "        'name':'baseline2018a',\n",
    "        'marker': {\n",
    "            'color': c3,\n",
    "            'size': s3,\n",
    "            'colorscale' : 'viridis'}\n",
    "    }, \n",
    "        {\n",
    "        'x': x4,\n",
    "        'y': y4,\n",
    "        'mode': 'markers',\n",
    "        'text': t4,\n",
    "        'name':'pontus_2002',\n",
    "        'marker': {\n",
    "            'color': c4,\n",
    "            'size': s4,\n",
    "            'colorscale' : 'Greys'}\n",
    "    }, \n",
    "    \n",
    "]\n",
    "\n",
    "layout = go.Layout(\n",
    "    xaxis=dict(\n",
    "        title='area (degrees)',\n",
    "        gridcolor='rgb(255, 255, 255)',\n",
    "        #type='log',\n",
    "        zerolinewidth=1,\n",
    "        #ticklen=5,\n",
    "        #gridwidth=2,\n",
    "    ),\n",
    "    yaxis=dict(\n",
    "        title='median i-band co-added depth',\n",
    "        gridcolor='rgb(255, 255, 255)',\n",
    "        #range=[36.12621671352166, 91.72921793264332],\n",
    "        zerolinewidth=1,\n",
    "        #ticklen=5,\n",
    "        #gridwidth=2,\n",
    "    ),\n",
    "    paper_bgcolor='rgb(243, 243, 243)',\n",
    "    plot_bgcolor='rgb(243, 243, 243)',\n",
    "    updatemenus=updatemenus\n",
    ")\n",
    "\n",
    "\n",
    "py.iplot(dict(data=data, layout=layout))"
   ]
  },
  {
   "cell_type": "code",
   "execution_count": 50,
   "metadata": {},
   "outputs": [
    {
     "data": {
      "text/html": [
       "<iframe id=\"igraph\" scrolling=\"no\" style=\"border:none;\" seamless=\"seamless\" src=\"https://plot.ly/~hsnee/148.embed\" height=\"525px\" width=\"100%\"></iframe>"
      ],
      "text/plain": [
       "<plotly.tools.PlotlyDisplay object>"
      ]
     },
     "execution_count": 50,
     "metadata": {},
     "output_type": "execute_result"
    }
   ],
   "source": [
    "x1,x2,x3,x4,y1,y2,y3,y4,t1,t2,t3,t4,c1,c2,c3,c4,s1,s2,s3,s4,z1,z2,z3,z4 = [[] for _ in range(24)]\n",
    "for i,cut_result in enumerate(np.load('baseline2018a_area_depth_y1.npy')):\n",
    "    area = cut_result[1]\n",
    "    idepth = cut_result[2]\n",
    "    neff = 4.33*(idepth-25)**2 + 7.03*(idepth-25) + 10.49\n",
    "    x1.append([area])\n",
    "    y1.append([idepth])\n",
    "    t1.append('i-depth > '+str(cut_result[0])+'<br>'+' neff*area = '+str(neff*area) )\n",
    "    c1.append(120+5*neff)\n",
    "    s1.append(cut_result[3]*1e2)\n",
    "\n",
    "\n",
    "for i,cut_result in enumerate(np.load('pontus_2002_area_depth_y1.npy')):\n",
    "    area = cut_result[1]\n",
    "    idepth = cut_result[2]\n",
    "    neff = 4.33*(idepth-25)**2 + 7.03*(idepth-25) + 10.49\n",
    "    x2.append([area])\n",
    "    y2.append([idepth])\n",
    "    t2.append('i-depth > '+str(cut_result[0])+'<br>'+' neff*area = '+str(neff*area) )\n",
    "    c2.append(120-5*neff+100)\n",
    "    s2.append(cut_result[3]*1e2)\n",
    "\n",
    "for i,cut_result in enumerate(np.load('baseline2018a_area_depth_y10.npy')):\n",
    "    area = cut_result[1]\n",
    "    idepth = cut_result[2]\n",
    "    neff = 4.33*(idepth-25)**2 + 7.03*(idepth-25) + 10.49\n",
    "    x3.append([area])\n",
    "    y3.append([idepth])\n",
    "    t3.append('i-depth > '+str(cut_result[0])+'<br>'+' neff*area = '+str(neff*area) )\n",
    "    c3.append(120+5*neff)\n",
    "    s3.append(cut_result[3]*1e2)\n",
    "\n",
    "\n",
    "for i,cut_result in enumerate(np.load('pontus_2002_area_depth_y10.npy')):\n",
    "    area = cut_result[1]\n",
    "    idepth = cut_result[2]\n",
    "    neff = 4.33*(idepth-25)**2 + 7.03*(idepth-25) + 10.49\n",
    "    x4.append([area])\n",
    "    y4.append([idepth])\n",
    "    t4.append('i-depth > '+str(cut_result[0])+'<br>'+' neff*area = '+str(neff*area) )\n",
    "    c4.append(120-5*neff)\n",
    "    s4.append(cut_result[3]*1e2)\n",
    "data = [\n",
    "        {\n",
    "        'x': x1,\n",
    "        'y': y1,\n",
    "        'mode': 'markers',\n",
    "        'text':t1,\n",
    "        'name':'baseline2018a',\n",
    "        'marker': {\n",
    "            'color': c1,\n",
    "            'size': s1,\n",
    "            'colorscale' : 'viridis'}\n",
    "    }, \n",
    "    \n",
    "        {\n",
    "        'x': x2,\n",
    "        'y': y2,\n",
    "        'mode': 'markers',\n",
    "        'text': t2,\n",
    "        'name':'pontus_2002',\n",
    "        'marker': {\n",
    "            'color': c2,\n",
    "            'size': s2,\n",
    "            'colorscale' : 'Greys'}\n",
    "    }, \n",
    "        {\n",
    "        'x': x3,\n",
    "        'y': y3,\n",
    "        'mode': 'markers',\n",
    "        'text': t3,\n",
    "        'name':'baseline2018a',\n",
    "        'marker': {\n",
    "            'color': c3,\n",
    "            'size': s3,\n",
    "            'colorscale' : 'viridis'}\n",
    "    }, \n",
    "        {\n",
    "        'x': x4,\n",
    "        'y': y4,\n",
    "        'mode': 'markers',\n",
    "        'text': t4,\n",
    "        'name':'pontus_2002',\n",
    "        'marker': {\n",
    "            'color': c4,\n",
    "            'size': s4,\n",
    "            'colorscale' : 'Greys'}\n",
    "    }, \n",
    "    \n",
    "]\n",
    "    \n",
    "updatemenus = list([\n",
    "    dict(active=0,\n",
    "         showactive=True,\n",
    "         buttons=list([\n",
    "            dict(label = 'Year 1',\n",
    "                 method = 'update',\n",
    "                 args = [{'visible': [True, True, False, False]},\n",
    "                         {'title': 'Year 1'}]),\n",
    "            dict(label = 'Year 10',\n",
    "                 method = 'update',\n",
    "                 args = [{'visible': [False, False, True, True]},\n",
    "                         {'title': 'Year 10'}])\n",
    "        ]),\n",
    "    )\n",
    "])\n",
    "\n",
    "py.iplot(dict(data=data, layout=layout))"
   ]
  },
  {
   "cell_type": "code",
   "execution_count": 51,
   "metadata": {},
   "outputs": [
    {
     "data": {
      "text/html": [
       "<iframe id=\"igraph\" scrolling=\"no\" style=\"border:none;\" seamless=\"seamless\" src=\"https://plot.ly/~hsnee/150.embed\" height=\"525px\" width=\"100%\"></iframe>"
      ],
      "text/plain": [
       "<plotly.tools.PlotlyDisplay object>"
      ]
     },
     "execution_count": 51,
     "metadata": {},
     "output_type": "execute_result"
    }
   ],
   "source": [
    "x1,x2,x3,x4,y1,y2,y3,y4,t1,t2,t3,t4,c1,c2,c3,c4,s1,s2,s3,s4,z1,z2,z3,z4 = [[] for _ in range(24)]\n",
    "for i,cut_result in enumerate(np.load('baseline2018a_area_depth_y1.npy')):\n",
    "    area = cut_result[1]\n",
    "    idepth = cut_result[2]\n",
    "    neff = 4.33*(idepth-25)**2 + 7.03*(idepth-25) + 10.49\n",
    "    x1.append([area])\n",
    "    y1.append([idepth])\n",
    "    t1.append('i-depth > '+str(cut_result[0])+'<br>'+' neff = '+str(neff) )\n",
    "    c1.append(120+5*neff*area)\n",
    "    s1.append(cut_result[3]*1e2)\n",
    "\n",
    "\n",
    "for i,cut_result in enumerate(np.load('pontus_2002_area_depth_y1.npy')):\n",
    "    area = cut_result[1]\n",
    "    idepth = cut_result[2]\n",
    "    neff = 4.33*(idepth-25)**2 + 7.03*(idepth-25) + 10.49\n",
    "    x2.append([area])\n",
    "    y2.append([idepth])\n",
    "    t2.append('i-depth > '+str(cut_result[0])+'<br>'+' neff = '+str(neff) )\n",
    "    c2.append(120-5*neff*area+100)\n",
    "    s2.append(cut_result[3]*1e2)\n",
    "\n",
    "for i,cut_result in enumerate(np.load('baseline2018a_area_depth_y10.npy')):\n",
    "    area = cut_result[1]\n",
    "    idepth = cut_result[2]\n",
    "    neff = 4.33*(idepth-25)**2 + 7.03*(idepth-25) + 10.49\n",
    "    x3.append([area])\n",
    "    y3.append([idepth])\n",
    "    t3.append('i-depth > '+str(cut_result[0])+'<br>'+' neff = '+str(neff) )\n",
    "    c3.append(120+5*neff*area)\n",
    "    s3.append(cut_result[3]*1e2)\n",
    "\n",
    "\n",
    "for i,cut_result in enumerate(np.load('pontus_2002_area_depth_y10.npy')):\n",
    "    area = cut_result[1]\n",
    "    idepth = cut_result[2]\n",
    "    neff = 4.33*(idepth-25)**2 + 7.03*(idepth-25) + 10.49\n",
    "    x4.append([area])\n",
    "    y4.append([idepth])\n",
    "    t4.append('i-depth > '+str(cut_result[0])+'<br>'+' neff = '+str(neff) )\n",
    "    c4.append(120-5*neff*area)\n",
    "    s4.append(cut_result[3]*1e2)\n",
    "data = [\n",
    "        {\n",
    "        'x': x1,\n",
    "        'y': y1,\n",
    "        'mode': 'markers',\n",
    "        'text':t1,\n",
    "        'name':'baseline2018a',\n",
    "        'marker': {\n",
    "            'color': c1,\n",
    "            'size': s1,\n",
    "            'colorscale' : 'viridis'}\n",
    "    }, \n",
    "    \n",
    "        {\n",
    "        'x': x2,\n",
    "        'y': y2,\n",
    "        'mode': 'markers',\n",
    "        'text': t2,\n",
    "        'name':'pontus_2002',\n",
    "        'marker': {\n",
    "            'color': c2,\n",
    "            'size': s2,\n",
    "            'colorscale' : 'Greys'}\n",
    "    }, \n",
    "        {\n",
    "        'x': x3,\n",
    "        'y': y3,\n",
    "        'mode': 'markers',\n",
    "        'text': t3,\n",
    "        'name':'baseline2018a',\n",
    "        'marker': {\n",
    "            'color': c3,\n",
    "            'size': s3,\n",
    "            'colorscale' : 'viridis'}\n",
    "    }, \n",
    "        {\n",
    "        'x': x4,\n",
    "        'y': y4,\n",
    "        'mode': 'markers',\n",
    "        'text': t4,\n",
    "        'name':'pontus_2002',\n",
    "        'marker': {\n",
    "            'color': c4,\n",
    "            'size': s4,\n",
    "            'colorscale' : 'Greys'}\n",
    "    }, \n",
    "    \n",
    "]\n",
    "    \n",
    "updatemenus = list([\n",
    "    dict(active=0,\n",
    "         showactive=True,\n",
    "         buttons=list([\n",
    "            dict(label = 'Year 1',\n",
    "                 method = 'update',\n",
    "                 args = [{'visible': [True, True, False, False]},\n",
    "                         {'title': 'Year 1'}]),\n",
    "            dict(label = 'Year 10',\n",
    "                 method = 'update',\n",
    "                 args = [{'visible': [False, False, True, True]},\n",
    "                         {'title': 'Year 10'}])\n",
    "        ]),\n",
    "    )\n",
    "])\n",
    "\n",
    "py.iplot(dict(data=data, layout=layout))"
   ]
  },
  {
   "cell_type": "code",
   "execution_count": 52,
   "metadata": {},
   "outputs": [
    {
     "data": {
      "text/html": [
       "<iframe id=\"igraph\" scrolling=\"no\" style=\"border:none;\" seamless=\"seamless\" src=\"https://plot.ly/~hsnee/152.embed\" height=\"525px\" width=\"100%\"></iframe>"
      ],
      "text/plain": [
       "<plotly.tools.PlotlyDisplay object>"
      ]
     },
     "execution_count": 52,
     "metadata": {},
     "output_type": "execute_result"
    }
   ],
   "source": [
    "x1,x2,x3,x4,y1,y2,y3,y4,t1,t2,t3,t4,c1,c2,c3,c4,s1,s2,s3,s4,z1,z2,z3,z4 = [[] for _ in range(24)]\n",
    "for i,cut_result in enumerate(np.load('baseline2018a_area_depth_y1.npy')):\n",
    "    area = cut_result[1]\n",
    "    idepth = cut_result[2]\n",
    "    neff = 4.33*(idepth-25)**2 + 7.03*(idepth-25) + 10.49\n",
    "    x1.append([area])\n",
    "    y1.append([idepth])\n",
    "    t1.append('i-depth > '+str(cut_result[0])+'<br>'+' neff = '+str(neff) )\n",
    "    c1.append(120+5*i)\n",
    "    s1.append(cut_result[3]*1e2)\n",
    "    z1.append([neff*area])\n",
    "\n",
    "\n",
    "for i,cut_result in enumerate(np.load('pontus_2002_area_depth_y1.npy')):\n",
    "    area = cut_result[1]\n",
    "    idepth = cut_result[2]\n",
    "    neff = 4.33*(idepth-25)**2 + 7.03*(idepth-25) + 10.49\n",
    "    x2.append([area])\n",
    "    y2.append([idepth])\n",
    "    t2.append('i-depth > '+str(cut_result[0])+'<br>'+' neff = '+str(neff) )\n",
    "    c2.append(120-5*i+100)\n",
    "    s2.append(cut_result[3]*1e2)\n",
    "    z2.append([neff*area])\n",
    "\n",
    "for i,cut_result in enumerate(np.load('baseline2018a_area_depth_y10.npy')):\n",
    "    area = cut_result[1]\n",
    "    idepth = cut_result[2]\n",
    "    neff = 4.33*(idepth-25)**2 + 7.03*(idepth-25) + 10.49\n",
    "    x3.append([area])\n",
    "    y3.append([idepth])\n",
    "    t3.append('i-depth > '+str(cut_result[0])+'<br>'+' neff = '+str(neff) )\n",
    "    c3.append(120+5*i)\n",
    "    s3.append(cut_result[3]*1e2)\n",
    "    z3.append([neff*area])\n",
    "\n",
    "\n",
    "for i,cut_result in enumerate(np.load('pontus_2002_area_depth_y10.npy')):\n",
    "    area = cut_result[1]\n",
    "    idepth = cut_result[2]\n",
    "    neff = 4.33*(idepth-25)**2 + 7.03*(idepth-25) + 10.49\n",
    "    x4.append([area])\n",
    "    y4.append([idepth])\n",
    "    t4.append('i-depth > '+str(cut_result[0])+'<br>'+' neff = '+str(neff) )\n",
    "    c4.append(120-5*i)\n",
    "    s4.append(cut_result[3]*1e2)\n",
    "    z4.append([neff*area])\n",
    "\n",
    "updatemenus = list([\n",
    "    dict(active=0,\n",
    "         showactive=True,\n",
    "         buttons=list([\n",
    "            dict(label = 'Year 1',\n",
    "                 method = 'update',\n",
    "                 args = [{'visible': [True, True, False, False]},\n",
    "                         {'title': 'Year 1'}]),\n",
    "            dict(label = 'Year 10',\n",
    "                 method = 'update',\n",
    "                 args = [{'visible': [False, False, True, True]},\n",
    "                         {'title': 'Year 10'}])\n",
    "        ]),\n",
    "    )\n",
    "])\n",
    "\n",
    "\n",
    "data = [go.Scatter3d(\n",
    "    x=x1,\n",
    "    y=y1,\n",
    "    z=z1,\n",
    "    text=t1,\n",
    "    mode='markers',\n",
    "    name='baseline2018a',\n",
    "    marker=dict(\n",
    "        sizemode = 'diameter',\n",
    "        #sizeref = 750,\n",
    "        size = s1*200,\n",
    "        color = c1,\n",
    "        colorscale = 'viridis',\n",
    "        #colorbar = dict(title = 'Life<br>Expectancy'),\n",
    "        #line=dict(color='rgb(140, 140, 170)')\n",
    "    )\n",
    "),\n",
    "    go.Scatter3d(\n",
    "        x=x2,\n",
    "        y=y2,\n",
    "        z=z2,\n",
    "        text=t2,\n",
    "        name='pontus_2002',\n",
    "        mode='markers',\n",
    "        marker=dict(\n",
    "            sizemode = 'diameter',\n",
    "            #sizeref = 750,\n",
    "            size = s2*200,\n",
    "            color = c2,\n",
    "            colorscale = 'Greys',\n",
    "            #colorbar = dict(title = 'Life<br>Expectancy'),\n",
    "            #line=dict(color='rgb(140, 140, 170)')\n",
    "    )\n",
    "),\n",
    "    go.Scatter3d(\n",
    "        x=x3,\n",
    "        y=y3,\n",
    "        z=z3,\n",
    "        text=t3,\n",
    "        name='baseline2018a',\n",
    "        mode='markers',\n",
    "        marker=dict(\n",
    "            sizemode = 'diameter',\n",
    "            #sizeref = 750,\n",
    "            size = s3*200,\n",
    "            color = c3,\n",
    "            colorscale = 'viridis',\n",
    "            #colorbar = dict(title = 'Life<br>Expectancy'),\n",
    "            #line=dict(color='rgb(140, 140, 170)')\n",
    "    )\n",
    "),\n",
    "    go.Scatter3d(\n",
    "        x=x4,\n",
    "        y=y4,\n",
    "        z=z4,\n",
    "        text=t4,\n",
    "        name='pontus_2002',\n",
    "        mode='markers',\n",
    "        marker=dict(\n",
    "            sizemode = 'diameter',\n",
    "            #sizeref = 750,\n",
    "            size = s4*200,\n",
    "            color = c4,\n",
    "            colorscale = 'Greys',\n",
    "            #colorbar = dict(title = 'Life<br>Expectancy'),\n",
    "            #line=dict(color='rgb(140, 140, 170)')\n",
    "    )\n",
    ")\n",
    "       ]\n",
    "\n",
    "\n",
    "layout=go.Layout(\n",
    "                 scene = dict(xaxis=dict(title='area (degrees^2)'),\n",
    "                            yaxis=dict(title='median<br>depth<br> in i'),\n",
    "                            zaxis=dict(title='area<br>*n_eff'),\n",
    "                            bgcolor = 'rgb(243, 243, 243)'\n",
    "                           ),\n",
    "                 updatemenus = updatemenus\n",
    "                )\n",
    "\n",
    "\n",
    "py.iplot(dict(data=data, layout=layout))"
   ]
  },
  {
   "cell_type": "code",
   "execution_count": 5,
   "metadata": {},
   "outputs": [],
   "source": [
    "a = [[1],[2,3],[],[3]]"
   ]
  },
  {
   "cell_type": "code",
   "execution_count": 9,
   "metadata": {},
   "outputs": [
    {
     "data": {
      "text/plain": [
       "[[1], [2, 3], [], [3]]"
      ]
     },
     "execution_count": 9,
     "metadata": {},
     "output_type": "execute_result"
    }
   ],
   "source": [
    "list(a)"
   ]
  },
  {
   "cell_type": "code",
   "execution_count": 59,
   "metadata": {},
   "outputs": [],
   "source": [
    "url.url"
   ]
  },
  {
   "cell_type": "code",
   "execution_count": 1,
   "metadata": {},
   "outputs": [
    {
     "name": "stdout",
     "output_type": "stream",
     "text": [
      "CCL_round_trip.ipynb\n",
      "CSAB.py\n",
      "CotB.pdf\n",
      "GalSize.ipynb\n",
      "Galsimtests.ipynb\n",
      "HSCS16A_combinedarea_1000rea_full_xi_p.mean_sqrtvar\n",
      "'Josh'\\''s metric.ipynb'\n",
      "ModelErrors.ipynb\n",
      "ModelErrors.py\n",
      "ModelErrorsNew.ipynb\n",
      "'Peter'\\''s Metric.ipynb'\n",
      "\u001b[0m\u001b[01;34m__pycache__\u001b[0m/\n",
      "airmass.ipynb\n",
      "area_mediandepth_relationship.ipynb\n",
      "area_vs_depth.ipynb\n",
      "counter10_Y10.p\n",
      "counter1_Y10.p\n",
      "counter3_Y10.p\n",
      "counter6_Y10.p\n",
      "dec_hist.ipynb\n",
      "errors.ipynb\n",
      "\u001b[01;34mhsc_plots\u001b[0m/\n",
      "methodology.ipynb\n",
      "'metrics playground.ipynb'\n",
      "moon_visibility.ipynb\n",
      "new_runs_results.ipynb\n",
      "new_sims_metrics_comparison.ipynb\n",
      "\u001b[01;34mnewcutnpys\u001b[0m/\n",
      "\u001b[01;34mnpys\u001b[0m/\n",
      "\u001b[01;34mobjs\u001b[0m/\n",
      "paper_plots.ipynb\n",
      "plotDitherPatterns.ipynb\n",
      "rho_requirements.txt\n",
      "rolling.ipynb\n",
      "'rotational angle distribution test.ipynb'\n",
      "saveDitherPositions.ipynb\n",
      "\u001b[01;34mtemp\u001b[0m/\n",
      "whyditherplot.ipynb\n"
     ]
    }
   ],
   "source": [
    "ls"
   ]
  },
  {
   "cell_type": "code",
   "execution_count": 4,
   "metadata": {},
   "outputs": [],
   "source": [
    "countersDict = pickle.load(open('counter10_Y10.p', 'rb'))"
   ]
  },
  {
   "cell_type": "code",
   "execution_count": 5,
   "metadata": {},
   "outputs": [],
   "source": [
    "l = len(list(countersDict.keys()))"
   ]
  },
  {
   "cell_type": "code",
   "execution_count": 7,
   "metadata": {},
   "outputs": [
    {
     "data": {
      "text/html": [
       "<iframe id=\"igraph\" scrolling=\"no\" style=\"border:none;\" seamless=\"seamless\" src=\"https://plot.ly/~hsnee/281.embed\" height=\"525px\" width=\"100%\"></iframe>"
      ],
      "text/plain": [
       "<plotly.tools.PlotlyDisplay object>"
      ]
     },
     "execution_count": 7,
     "metadata": {},
     "output_type": "execute_result"
    }
   ],
   "source": [
    "visibility = [[False]*i+[True]*(1)+[False]*(l-i-1) for i in range(l)]\n",
    "\n",
    "\n",
    "\n",
    "updatemenus = list([dict(type=\"buttons\",\n",
    "                         active=-1,\n",
    "                         buttons= [dict(label=key, \n",
    "                                        method='update', \n",
    "                                        args = [{'visibile': visibility[i]},\n",
    "                                                {'title':key}] ) for i, key in enumerate(list(countersDict.keys()))])\n",
    "    \n",
    "])\n",
    "              \n",
    "layout = dict(updatemenus=updatemenus)\n",
    "fig = ff.create_distplot([list((countersDict[x][x]).values()) for x in list(countersDict.keys())], [x for x in list(countersDict.keys())], bin_size=1, show_hist=False, show_rug=False)\n",
    "#fig.layout['updatemenus']=updatemenus\n",
    "py.iplot(fig)\n"
   ]
  },
  {
   "cell_type": "code",
   "execution_count": 50,
   "metadata": {},
   "outputs": [],
   "source": [
    "from sklearn import linear_model\n",
    "\n"
   ]
  },
  {
   "cell_type": "code",
   "execution_count": 55,
   "metadata": {},
   "outputs": [
    {
     "name": "stdout",
     "output_type": "stream",
     "text": [
      "1 -1.3397795822129898e-05 25.45030983950539\n",
      "3 -1.1486114299810512e-05 26.000316529819436\n",
      "6 -1.033632308585374e-05 26.372811080054035\n",
      "10 -1.106722918437021e-05 26.660156319144793\n"
     ]
    }
   ],
   "source": [
    "for year in ['1','3','6','10']:\n",
    "    runName = 'newcutnpys/altsched_roriswap_area_depth_y'+year+'.npy'\n",
    "    data = np.load(runName)[:-5]\n",
    "    dataX = data[:,1]\n",
    "    dataY = data[:,2]\n",
    "    regr = linear_model.LinearRegression()\n",
    "    regr.fit(dataX.reshape(-1, 1), dataY.reshape(-1, 1))\n",
    "    print(year, regr.coef_[0][0], regr.intercept_[0])\n"
   ]
  },
  {
   "cell_type": "code",
   "execution_count": 60,
   "metadata": {},
   "outputs": [
    {
     "data": {
      "text/plain": [
       "array([2.60000000e+01, 1.52253113e+04, 2.64918450e+01, 1.37835600e-01])"
      ]
     },
     "execution_count": 60,
     "metadata": {},
     "output_type": "execute_result"
    }
   ],
   "source": [
    "data"
   ]
  },
  {
   "cell_type": "code",
   "execution_count": 63,
   "metadata": {},
   "outputs": [
    {
     "name": "stdout",
     "output_type": "stream",
     "text": [
      "1 15802.535487152802 25.238644560881347\n",
      "3 15855.62081021241 25.818184410787907\n",
      "6 15653.351041716518 26.21103877493674\n",
      "10 15225.311282658822 26.491844988848314\n"
     ]
    }
   ],
   "source": [
    "for year in ['1','3','6','10']:\n",
    "    runName = 'newcutnpys/altsched_riswap_area_depth_y'+year+'.npy'\n",
    "    data = np.load(runName)[5]\n",
    "    dataX = data[1]\n",
    "    dataY = data[2]\n",
    "    print(year, dataX, dataY)"
   ]
  },
  {
   "cell_type": "code",
   "execution_count": 53,
   "metadata": {},
   "outputs": [
    {
     "data": {
      "text/html": [
       "<iframe id=\"igraph\" scrolling=\"no\" style=\"border:none;\" seamless=\"seamless\" src=\"https://plot.ly/~hsnee/315.embed\" height=\"525px\" width=\"100%\"></iframe>"
      ],
      "text/plain": [
       "<plotly.tools.PlotlyDisplay object>"
      ]
     },
     "execution_count": 53,
     "metadata": {},
     "output_type": "execute_result"
    }
   ],
   "source": [
    "def data_to_plotly(x):\n",
    "    k = []\n",
    "    \n",
    "    for i in range(0, len(x)):\n",
    "        k.append(x[i][0])\n",
    "        \n",
    "    return k\n",
    "p1 = go.Scatter(x=dataX, \n",
    "                y=dataY, \n",
    "                mode='markers',\n",
    "                name='data points',\n",
    "                marker=dict(color='black', size=6)\n",
    "               )\n",
    "\n",
    "p2 = go.Scatter(x=dataX, \n",
    "                y=regr.predict(dataX.reshape(-1, 1)),\n",
    "                mode='lines',\n",
    "                name='linear fit',\n",
    "                text='y = ' +str(regr.coef_[0][0]) + 'x + ' +str(regr.intercept_[0]),\n",
    "                line=dict(color='violet', width=3)\n",
    "                )\n",
    "\n",
    "layout = go.Layout(xaxis=dict(title='area (degrees^2)',\n",
    "                              zeroline=False),\n",
    "                   yaxis=dict(title='median depth in i-band',\n",
    "                              zeroline=False),\n",
    "                   showlegend=False, hovermode='closest',\n",
    "                   title='baseline2018a Y10 linear fit')\n",
    "\n",
    "fig = go.Figure(data=[p1, p2], layout=layout)\n",
    "\n",
    "py.iplot(fig)"
   ]
  },
  {
   "cell_type": "code",
   "execution_count": 80,
   "metadata": {},
   "outputs": [],
   "source": [
    "data = np.load('baseline2018a_area_depth_y10.npy')\n",
    "dataX = data[:,0]\n",
    "dataY = data[:,1]\n",
    "\n"
   ]
  },
  {
   "cell_type": "code",
   "execution_count": 95,
   "metadata": {},
   "outputs": [
    {
     "data": {
      "text/plain": [
       "[<matplotlib.lines.Line2D at 0x2b4a81af8748>]"
      ]
     },
     "execution_count": 95,
     "metadata": {},
     "output_type": "execute_result"
    },
    {
     "data": {
      "image/png": "[encoded data removed]",
      "text/plain": [
       "<Figure size 1368x1008 with 1 Axes>"
      ]
     },
     "metadata": {
      "image/png": {
       "height": 808,
       "width": 1156
      }
     },
     "output_type": "display_data"
    }
   ],
   "source": [
    "np.log10(data)"
   ]
  },
  {
   "cell_type": "code",
   "execution_count": null,
   "metadata": {},
   "outputs": [],
   "source": []
  },
  {
   "cell_type": "code",
   "execution_count": null,
   "metadata": {},
   "outputs": [
    {
     "name": "stderr",
     "output_type": "stream",
     "text": [
      "/global/common/software/lsst/common/miniconda/py3-4.3.21-env/lib/python3.6/site-packages/ipykernel/__main__.py:1: RuntimeWarning:\n",
      "\n",
      "overflow encountered in exp\n",
      "\n"
     ]
    },
    {
     "data": {
      "text/plain": [
       "[<matplotlib.lines.Line2D at 0x2b4a87745588>]"
      ]
     },
     "execution_count": 107,
     "metadata": {},
     "output_type": "execute_result"
    }
   ],
   "source": [
    "plt.plot(np.exp(dataY-10000))"
   ]
  },
  {
   "cell_type": "code",
   "execution_count": null,
   "metadata": {},
   "outputs": [],
   "source": []
  },
  {
   "cell_type": "code",
   "execution_count": 100,
   "metadata": {},
   "outputs": [
    {
     "data": {
      "text/plain": [
       "[<matplotlib.lines.Line2D at 0x2b4a81767ef0>]"
      ]
     },
     "execution_count": 100,
     "metadata": {},
     "output_type": "execute_result"
    },
    {
     "data": {
      "image/png": "[encoded data removed]",
      "text/plain": [
       "<Figure size 1368x1008 with 1 Axes>"
      ]
     },
     "metadata": {
      "image/png": {
       "height": 828,
       "width": 1121
      }
     },
     "output_type": "display_data"
    }
   ],
   "source": [
    "plt.plot(10**(dataX),'o')"
   ]
  },
  {
   "cell_type": "code",
   "execution_count": null,
   "metadata": {},
   "outputs": [],
   "source": [
    "from sklearn import linear_model\n",
    "# Create linear regression object\n",
    "regr = linear_model.LinearRegression()\n",
    "\n",
    "# Train the model using the training sets\n",
    "regr.fit(dataX.reshape(-1, 1), dataY.reshape(-1, 1))\n",
    "\n",
    "# The coefficients\n",
    "print('Coefficients: \\n', regr.coef_)\n"
   ]
  },
  {
   "cell_type": "code",
   "execution_count": null,
   "metadata": {},
   "outputs": [],
   "source": [
    "def data_to_plotly(x):\n",
    "    k = []\n",
    "    \n",
    "    for i in range(0, len(x)):\n",
    "        k.append(x[i][0])\n",
    "        \n",
    "    return k\n",
    "p1 = go.Scatter(x=dataX, \n",
    "                y=dataY, \n",
    "                mode='markers',\n",
    "                name='data points',\n",
    "                marker=dict(color='black', size=6)\n",
    "               )\n",
    "\n",
    "p2 = go.Scatter(x=dataX, \n",
    "                y=regr.predict(dataX.reshape(-1, 1)),\n",
    "                mode='lines',\n",
    "                name='linear fit',\n",
    "                text='y = ' +str(regr.coef_[0][0]) + 'x + ' +str(regr.intercept_[0]),\n",
    "                line=dict(color='violet', width=3)\n",
    "                )\n",
    "\n",
    "layout = go.Layout(xaxis=dict(title='area (degrees^2)',\n",
    "                              zeroline=False),\n",
    "                   yaxis=dict(title='median depth in i-band',\n",
    "                              zeroline=False),\n",
    "                   showlegend=False, hovermode='closest',\n",
    "                   title='baseline2018a Y10 linear fit')\n",
    "\n",
    "fig = go.Figure(data=[p1, p2], layout=layout)\n",
    "\n",
    "py.iplot(fig)"
   ]
  }
 ],
 "metadata": {
  "kernelspec": {
   "display_name": "lsst",
   "language": "python",
   "name": "lsst"
  },
  "language_info": {
   "codemirror_mode": {
    "name": "ipython",
    "version": 3
   },
   "file_extension": ".py",
   "mimetype": "text/x-python",
   "name": "python",
   "nbconvert_exporter": "python",
   "pygments_lexer": "ipython3",
   "version": "3.6.2"
  }
 },
 "nbformat": 4,
 "nbformat_minor": 2
}
