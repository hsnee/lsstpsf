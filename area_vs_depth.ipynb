{
 "cells": [
  {
   "cell_type": "code",
   "execution_count": 2,
   "metadata": {},
   "outputs": [
    {
     "name": "stdout",
     "output_type": "stream",
     "text": [
      "Populating the interactive namespace from numpy and matplotlib\n"
     ]
    }
   ],
   "source": [
    "from __future__ import division\n",
    "%pylab inline\n",
    "from scipy import stats\n",
    "from angles import r2d, r2arcs, d2arcs, arcs2r\n",
    "def arcm2r(theta):\n",
    "    return arcs2r(theta*60)\n",
    "import seaborn as sns;sns.set_style('darkgrid')\n",
    "import lsst.sims.maf.stackers as stackers\n",
    "import treecorr as tr\n",
    "%config InlineBackend.figure_format = 'retina'\n",
    "matplotlib.rcParams['figure.figsize'] = 19,14\n",
    "import lsst.sims.maf.slicers as slicers\n",
    "import lsst.sims.maf.metrics as metrics\n",
    "import lsst.sims.maf.metricBundles as metricBundles\n",
    "import lsst.sims.maf.db as db\n",
    "import lsst.sims.maf.maps as maps\n",
    "from collections import defaultdict\n",
    "import treecorr\n",
    "from itertools import chain\n",
    "sns.set_context('poster',font_scale=1.4)\n",
    "import pickle\n",
    "import plotly\n",
    "import plotly.plotly as py\n",
    "import plotly.figure_factory as ff\n",
    "import plotly.graph_objs as go"
   ]
  },
  {
   "cell_type": "code",
   "execution_count": 122,
   "metadata": {},
   "outputs": [],
   "source": [
    "x1,x2,x3,x4 = [],[],[],[]\n",
    "y1,y2,y3,y4 = [],[],[],[]\n"
   ]
  },
  {
   "cell_type": "code",
   "execution_count": 125,
   "metadata": {},
   "outputs": [],
   "source": [
    "t1,t2,t3,t4 = [],[],[],[]"
   ]
  },
  {
   "cell_type": "code",
   "execution_count": 124,
   "metadata": {},
   "outputs": [],
   "source": [
    "c1,c2,c3,c4 = [],[],[],[]\n",
    "s1,s2,s3,s4 = [],[],[],[]"
   ]
  },
  {
   "cell_type": "code",
   "execution_count": 120,
   "metadata": {},
   "outputs": [],
   "source": [
    "x2, y2, s, y = [], [], [],[]"
   ]
  },
  {
   "cell_type": "code",
   "execution_count": 126,
   "metadata": {},
   "outputs": [
    {
     "data": {
      "text/html": [
       "<iframe id=\"igraph\" scrolling=\"no\" style=\"border:none;\" seamless=\"seamless\" src=\"https://plot.ly/~hsnee/98.embed\" height=\"525px\" width=\"100%\"></iframe>"
      ],
      "text/plain": [
       "<plotly.tools.PlotlyDisplay object>"
      ]
     },
     "execution_count": 126,
     "metadata": {},
     "output_type": "execute_result"
    }
   ],
   "source": [
    "x1,x2,x3,x4 = [],[],[],[]\n",
    "y1,y2,y3,y4 = [],[],[],[]\n",
    "t1,t2,t3,t4 = [],[],[],[]\n",
    "c1,c2,c3,c4 = [],[],[],[]\n",
    "s1,s2,s3,s4 = [],[],[],[]\n",
    "\n",
    "for i,cut_result in enumerate(np.load('baseline2018a_area_depth_y1.npy')):\n",
    "    x1.append([cut_result[1]])\n",
    "    y1.append([cut_result[2]])\n",
    "    t1.append(str(cut_result[0]))\n",
    "    c1.append(120+5*i)\n",
    "    s1.append(cut_result[3]*1e2)\n",
    "\n",
    "\n",
    "for i,cut_result in enumerate(np.load('pontus_2002_area_depth_y1.npy')):\n",
    "    x2.append([cut_result[1]])\n",
    "    y2.append([cut_result[2]])\n",
    "    t2.append(str(cut_result[0]))\n",
    "    c2.append(120-5*i)\n",
    "    s2.append(cut_result[3]*1e2)\n",
    "\n",
    "for i,cut_result in enumerate(np.load('baseline2018a_area_depth_y10.npy')):\n",
    "    x3.append([cut_result[1]])\n",
    "    y3.append([cut_result[2]])\n",
    "    t3.append(str(cut_result[0]))\n",
    "    c3.append(120+5*i)\n",
    "    s3.append(cut_result[3]*1e2)\n",
    "\n",
    "\n",
    "for i,cut_result in enumerate(np.load('pontus_2002_area_depth_y10.npy')):\n",
    "    x4.append([cut_result[1]])\n",
    "    y4.append([cut_result[2]])\n",
    "    t4.append(str(cut_result[0]))\n",
    "    c4.append(120-5*i)\n",
    "    s4.append(cut_result[3]*1e2)\n",
    "\n",
    "updatemenus = list([\n",
    "    dict(type=\"buttons\",\n",
    "         active=-1,\n",
    "         buttons=list([\n",
    "            dict(label = 'Year 1',\n",
    "                 method = 'update',\n",
    "                 args = [{'visible': [True, True, False, False]},\n",
    "                         {'title': 'Year 1'}]),\n",
    "            dict(label = 'Year 10',\n",
    "                 method = 'update',\n",
    "                 args = [{'visible': [False, False, True, True]},\n",
    "                         {'title': 'Year 10'}])\n",
    "        ]),\n",
    "    )\n",
    "])\n",
    "\n",
    "\n",
    "data = [\n",
    "        {\n",
    "        'x': x1,\n",
    "        'y': y1,\n",
    "        'mode': 'markers',\n",
    "        'text':t1,\n",
    "        'name':'baseline2018a',\n",
    "        'marker': {\n",
    "            'color': c1,\n",
    "            'size': s1,\n",
    "            'colorscale' : 'viridis'}\n",
    "    }, \n",
    "    \n",
    "        {\n",
    "        'x': x2,\n",
    "        'y': y2,\n",
    "        'mode': 'markers',\n",
    "        'text': t2,\n",
    "        'name':'pontus_2002',\n",
    "        'marker': {\n",
    "            'color': c2,\n",
    "            'size': s2,\n",
    "            'colorscale' : 'Greys'}\n",
    "    }, \n",
    "        {\n",
    "        'x': x3,\n",
    "        'y': y3,\n",
    "        'mode': 'markers',\n",
    "        'text': t3,\n",
    "        'name':'baseline2018a',\n",
    "        'marker': {\n",
    "            'color': c3,\n",
    "            'size': s3,\n",
    "            'colorscale' : 'viridis'}\n",
    "    }, \n",
    "        {\n",
    "        'x': x4,\n",
    "        'y': y4,\n",
    "        'mode': 'markers',\n",
    "        'text': t4,\n",
    "        'name':'pontus_2002',\n",
    "        'marker': {\n",
    "            'color': c4,\n",
    "            'size': s4,\n",
    "            'colorscale' : 'Greys'}\n",
    "    }, \n",
    "    \n",
    "]\n",
    "\n",
    "layout = go.Layout(\n",
    "    xaxis=dict(\n",
    "        title='area (degrees)',\n",
    "        gridcolor='rgb(255, 255, 255)',\n",
    "        #type='log',\n",
    "        zerolinewidth=1,\n",
    "        #ticklen=5,\n",
    "        #gridwidth=2,\n",
    "    ),\n",
    "    yaxis=dict(\n",
    "        title='median i-band co-added depth',\n",
    "        gridcolor='rgb(255, 255, 255)',\n",
    "        #range=[36.12621671352166, 91.72921793264332],\n",
    "        zerolinewidth=1,\n",
    "        #ticklen=5,\n",
    "        #gridwidth=2,\n",
    "    ),\n",
    "    paper_bgcolor='rgb(243, 243, 243)',\n",
    "    plot_bgcolor='rgb(243, 243, 243)',\n",
    "    updatemenus=updatemenus\n",
    ")\n",
    "\n",
    "\n",
    "py.iplot(dict(data=data, layout=layout))"
   ]
  },
  {
   "cell_type": "code",
   "execution_count": 59,
   "metadata": {},
   "outputs": [],
   "source": [
    "url.url"
   ]
  },
  {
   "cell_type": "code",
   "execution_count": 61,
   "metadata": {},
   "outputs": [],
   "source": [
    "countersDict = pickle.load(open('countersDict.p', 'rb'))"
   ]
  },
  {
   "cell_type": "code",
   "execution_count": 70,
   "metadata": {},
   "outputs": [
    {
     "data": {
      "text/plain": [
       "14"
      ]
     },
     "execution_count": 70,
     "metadata": {},
     "output_type": "execute_result"
    }
   ],
   "source": [
    "len(list(countersDict.keys()))"
   ]
  },
  {
   "cell_type": "code",
   "execution_count": 128,
   "metadata": {},
   "outputs": [
    {
     "data": {
      "text/html": [
       "<iframe id=\"igraph\" scrolling=\"no\" style=\"border:none;\" seamless=\"seamless\" src=\"https://plot.ly/~hsnee/102.embed\" height=\"525px\" width=\"100%\"></iframe>"
      ],
      "text/plain": [
       "<plotly.tools.PlotlyDisplay object>"
      ]
     },
     "execution_count": 128,
     "metadata": {},
     "output_type": "execute_result"
    }
   ],
   "source": [
    "visibility = [[False]*i+[True]*(1)+[False]*(14-i-1) for i in range(14)]\n",
    "\n",
    "\n",
    "\n",
    "updatemenus = list([dict(type=\"buttons\",\n",
    "                         active=-1,\n",
    "                         buttons= [dict(label=key, \n",
    "                                        method='update', \n",
    "                                        args = [{'visibile': visibility[i]},\n",
    "                                                {'title':key}] ) for i, key in enumerate(list(countersDict.keys()))])\n",
    "    \n",
    "])\n",
    "              \n",
    "layout = dict(updatemenus=updatemenus)\n",
    "fig = ff.create_distplot([list((countersDict[x]).values()) for x in list(countersDict.keys())], [x for x in list(countersDict.keys())], bin_size=1, show_hist=False, show_rug=False)\n",
    "#fig.layout['updatemenus']=updatemenus\n",
    "py.iplot(fig)\n"
   ]
  },
  {
   "cell_type": "code",
   "execution_count": null,
   "metadata": {},
   "outputs": [],
   "source": []
  }
 ],
 "metadata": {
  "kernelspec": {
   "display_name": "lsst",
   "language": "python",
   "name": "lsst"
  },
  "language_info": {
   "codemirror_mode": {
    "name": "ipython",
    "version": 3
   },
   "file_extension": ".py",
   "mimetype": "text/x-python",
   "name": "python",
   "nbconvert_exporter": "python",
   "pygments_lexer": "ipython3",
   "version": "3.6.2"
  }
 },
 "nbformat": 4,
 "nbformat_minor": 2
}
